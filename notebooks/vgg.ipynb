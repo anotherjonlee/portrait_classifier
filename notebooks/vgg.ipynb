{
 "cells": [
  {
   "cell_type": "code",
   "execution_count": 1,
   "metadata": {},
   "outputs": [],
   "source": [
    "import sys\n",
    "sys.path.append(\"..\") ## resetting the path to the parent directory"
   ]
  },
  {
   "cell_type": "code",
   "execution_count": 2,
   "metadata": {},
   "outputs": [],
   "source": [
    "from tensorflow.keras.applications.resnet50 import ResNet50\n",
    "from tensorflow.keras.applications.resnet50 import preprocess_input, decode_predictions\n",
    "from tensorflow.keras.preprocessing import image\n",
    "\n",
    "from tensorflow.keras.applications.vgg16 import VGG16\n",
    "from tensorflow.keras.applications.vgg16 import preprocess_input\n",
    "import numpy as np"
   ]
  },
  {
   "cell_type": "code",
   "execution_count": 3,
   "metadata": {},
   "outputs": [],
   "source": [
    "%load_ext autoreload\n",
    "%autoreload 2\n",
    "\n",
    "import pandas as pd\n",
    "import numpy as np\n",
    "import scipy.stats as stats\n",
    "import matplotlib.pyplot as plt\n",
    "import seaborn as sns\n",
    "%matplotlib inline\n",
    "plt.style.use('ggplot')"
   ]
  },
  {
   "cell_type": "code",
   "execution_count": 4,
   "metadata": {},
   "outputs": [],
   "source": [
    "import tensorflow as tf\n",
    "from tensorflow.keras import layers\n",
    "from tensorflow.keras.optimizers import SGD\n",
    "\n",
    "keras = tf.keras\n",
    "AUTOTUNE = tf.data.experimental.AUTOTUNE"
   ]
  },
  {
   "cell_type": "code",
   "execution_count": 5,
   "metadata": {},
   "outputs": [],
   "source": [
    "from tensorflow.keras.preprocessing.image import ImageDataGenerator, array_to_img, img_to_array, load_img"
   ]
  },
  {
   "cell_type": "code",
   "execution_count": 6,
   "metadata": {},
   "outputs": [],
   "source": [
    "train_datagen = ImageDataGenerator(\n",
    "        rotation_range=40,\n",
    "        rescale=1./255,\n",
    "        shear_range=0.2,\n",
    "        zoom_range=0.2,\n",
    "        horizontal_flip=True,\n",
    "        fill_mode='nearest')"
   ]
  },
  {
   "cell_type": "code",
   "execution_count": 7,
   "metadata": {},
   "outputs": [],
   "source": [
    "test_datagen = ImageDataGenerator(rescale=1./255)"
   ]
  },
  {
   "cell_type": "code",
   "execution_count": 8,
   "metadata": {},
   "outputs": [],
   "source": [
    "batch_size = 32"
   ]
  },
  {
   "cell_type": "code",
   "execution_count": 9,
   "metadata": {},
   "outputs": [
    {
     "name": "stdout",
     "output_type": "stream",
     "text": [
      "Found 10254 images belonging to 12 classes.\n"
     ]
    }
   ],
   "source": [
    "train_generator = train_datagen.flow_from_directory(\n",
    "        '../data/train_folder',  # this is the target directory\n",
    "        target_size=(224, 224),  # all images will be resized to 150x150\n",
    "        batch_size=batch_size,\n",
    "        color_mode=\"rgb\",\n",
    "        class_mode='categorical')  # since we use binary_crossentropy loss, we need binary labels"
   ]
  },
  {
   "cell_type": "code",
   "execution_count": 10,
   "metadata": {},
   "outputs": [
    {
     "name": "stdout",
     "output_type": "stream",
     "text": [
      "Found 1140 images belonging to 12 classes.\n"
     ]
    }
   ],
   "source": [
    "validation_generator = test_datagen.flow_from_directory(\n",
    "        '../data/validation_folder',\n",
    "        target_size=(224, 224),\n",
    "        batch_size=batch_size,\n",
    "        class_mode='categorical')"
   ]
  },
  {
   "cell_type": "code",
   "execution_count": null,
   "metadata": {},
   "outputs": [],
   "source": []
  },
  {
   "cell_type": "code",
   "execution_count": 11,
   "metadata": {},
   "outputs": [
    {
     "name": "stdout",
     "output_type": "stream",
     "text": [
      "Found 10254 images belonging to 12 classes.\n"
     ]
    }
   ],
   "source": [
    "train_generator2 = train_datagen.flow_from_directory(\n",
    "        '../data/train_folder',  # this is the target directory\n",
    "        target_size=(224, 224),  # all images will be resized to 150x150\n",
    "        batch_size=batch_size,\n",
    "        color_mode=\"rgb\",\n",
    "        seed=42,\n",
    "        class_mode='categorical')  # since we use binary_crossentropy loss, we need binary labels"
   ]
  },
  {
   "cell_type": "code",
   "execution_count": 12,
   "metadata": {},
   "outputs": [
    {
     "name": "stdout",
     "output_type": "stream",
     "text": [
      "Found 1140 images belonging to 12 classes.\n"
     ]
    }
   ],
   "source": [
    "validation_generator2 = test_datagen.flow_from_directory(\n",
    "        '../data/validation_folder',\n",
    "        target_size=(224, 224),\n",
    "        batch_size=batch_size,\n",
    "        seed=42,\n",
    "        class_mode='categorical')"
   ]
  },
  {
   "cell_type": "code",
   "execution_count": 13,
   "metadata": {},
   "outputs": [
    {
     "name": "stdout",
     "output_type": "stream",
     "text": [
      "Found 1266 images belonging to 12 classes.\n"
     ]
    }
   ],
   "source": [
    "test_generator2 = test_datagen.flow_from_directory(\n",
    "    directory='../data/holdout_folder',\n",
    "    target_size=(224, 224),\n",
    "    color_mode=\"rgb\",\n",
    "    batch_size=1,\n",
    "    class_mode=None,\n",
    "    seed=42)"
   ]
  },
  {
   "cell_type": "code",
   "execution_count": null,
   "metadata": {},
   "outputs": [],
   "source": []
  },
  {
   "cell_type": "code",
   "execution_count": 14,
   "metadata": {},
   "outputs": [
    {
     "name": "stdout",
     "output_type": "stream",
     "text": [
      "Found 1140 images belonging to 12 classes.\n"
     ]
    }
   ],
   "source": [
    "evaluate_generator = test_datagen.flow_from_directory(\n",
    "        '../data/validation_folder',\n",
    "        target_size=(224, 224),\n",
    "        batch_size=1,\n",
    "        seed=42,\n",
    "        class_mode='categorical')"
   ]
  },
  {
   "cell_type": "code",
   "execution_count": null,
   "metadata": {},
   "outputs": [],
   "source": []
  },
  {
   "cell_type": "code",
   "execution_count": null,
   "metadata": {},
   "outputs": [],
   "source": []
  },
  {
   "cell_type": "code",
   "execution_count": null,
   "metadata": {},
   "outputs": [],
   "source": []
  },
  {
   "cell_type": "code",
   "execution_count": null,
   "metadata": {},
   "outputs": [],
   "source": []
  },
  {
   "cell_type": "code",
   "execution_count": 15,
   "metadata": {},
   "outputs": [],
   "source": [
    "from tensorflow.keras import backend as K\n",
    "img_width, img_height = 224, 224\n",
    "if K.image_data_format() == 'channels_first':\n",
    "    input_shape = (3, img_width, img_height)\n",
    "else:\n",
    "    input_shape = (img_width, img_height, 3)"
   ]
  },
  {
   "cell_type": "code",
   "execution_count": 16,
   "metadata": {},
   "outputs": [],
   "source": [
    "#prepared_images = preprocess_input(X_train)"
   ]
  },
  {
   "cell_type": "code",
   "execution_count": 17,
   "metadata": {},
   "outputs": [],
   "source": [
    "from tensorflow.keras.models import Model\n",
    "from tensorflow.keras.layers import Input, Flatten, Dense"
   ]
  },
  {
   "cell_type": "code",
   "execution_count": 18,
   "metadata": {},
   "outputs": [],
   "source": [
    "base_model = VGG16(include_top=False, weights='imagenet',input_shape = (224,224,3),pooling=max)\n"
   ]
  },
  {
   "cell_type": "code",
   "execution_count": 19,
   "metadata": {},
   "outputs": [
    {
     "name": "stdout",
     "output_type": "stream",
     "text": [
      "Model: \"vgg16\"\n",
      "_________________________________________________________________\n",
      "Layer (type)                 Output Shape              Param #   \n",
      "=================================================================\n",
      "input_1 (InputLayer)         [(None, 224, 224, 3)]     0         \n",
      "_________________________________________________________________\n",
      "block1_conv1 (Conv2D)        (None, 224, 224, 64)      1792      \n",
      "_________________________________________________________________\n",
      "block1_conv2 (Conv2D)        (None, 224, 224, 64)      36928     \n",
      "_________________________________________________________________\n",
      "block1_pool (MaxPooling2D)   (None, 112, 112, 64)      0         \n",
      "_________________________________________________________________\n",
      "block2_conv1 (Conv2D)        (None, 112, 112, 128)     73856     \n",
      "_________________________________________________________________\n",
      "block2_conv2 (Conv2D)        (None, 112, 112, 128)     147584    \n",
      "_________________________________________________________________\n",
      "block2_pool (MaxPooling2D)   (None, 56, 56, 128)       0         \n",
      "_________________________________________________________________\n",
      "block3_conv1 (Conv2D)        (None, 56, 56, 256)       295168    \n",
      "_________________________________________________________________\n",
      "block3_conv2 (Conv2D)        (None, 56, 56, 256)       590080    \n",
      "_________________________________________________________________\n",
      "block3_conv3 (Conv2D)        (None, 56, 56, 256)       590080    \n",
      "_________________________________________________________________\n",
      "block3_pool (MaxPooling2D)   (None, 28, 28, 256)       0         \n",
      "_________________________________________________________________\n",
      "block4_conv1 (Conv2D)        (None, 28, 28, 512)       1180160   \n",
      "_________________________________________________________________\n",
      "block4_conv2 (Conv2D)        (None, 28, 28, 512)       2359808   \n",
      "_________________________________________________________________\n",
      "block4_conv3 (Conv2D)        (None, 28, 28, 512)       2359808   \n",
      "_________________________________________________________________\n",
      "block4_pool (MaxPooling2D)   (None, 14, 14, 512)       0         \n",
      "_________________________________________________________________\n",
      "block5_conv1 (Conv2D)        (None, 14, 14, 512)       2359808   \n",
      "_________________________________________________________________\n",
      "block5_conv2 (Conv2D)        (None, 14, 14, 512)       2359808   \n",
      "_________________________________________________________________\n",
      "block5_conv3 (Conv2D)        (None, 14, 14, 512)       2359808   \n",
      "_________________________________________________________________\n",
      "block5_pool (MaxPooling2D)   (None, 7, 7, 512)         0         \n",
      "=================================================================\n",
      "Total params: 14,714,688\n",
      "Trainable params: 14,714,688\n",
      "Non-trainable params: 0\n",
      "_________________________________________________________________\n"
     ]
    }
   ],
   "source": [
    "base_model.summary()"
   ]
  },
  {
   "cell_type": "code",
   "execution_count": 20,
   "metadata": {},
   "outputs": [],
   "source": [
    "base_model.trainable = True\n",
    "\n",
    "set_trainable = False\n",
    "for layer in base_model.layers:\n",
    "    if layer.name == 'block5_conv1':\n",
    "        set_trainable = True\n",
    "    if set_trainable:\n",
    "        layer.trainable = True\n",
    "    else:\n",
    "        layer.trainable = False"
   ]
  },
  {
   "cell_type": "code",
   "execution_count": 21,
   "metadata": {},
   "outputs": [],
   "source": [
    "#base_model.trainable = False"
   ]
  },
  {
   "cell_type": "code",
   "execution_count": 22,
   "metadata": {},
   "outputs": [
    {
     "name": "stdout",
     "output_type": "stream",
     "text": [
      "Model: \"vgg16\"\n",
      "_________________________________________________________________\n",
      "Layer (type)                 Output Shape              Param #   \n",
      "=================================================================\n",
      "input_1 (InputLayer)         [(None, 224, 224, 3)]     0         \n",
      "_________________________________________________________________\n",
      "block1_conv1 (Conv2D)        (None, 224, 224, 64)      1792      \n",
      "_________________________________________________________________\n",
      "block1_conv2 (Conv2D)        (None, 224, 224, 64)      36928     \n",
      "_________________________________________________________________\n",
      "block1_pool (MaxPooling2D)   (None, 112, 112, 64)      0         \n",
      "_________________________________________________________________\n",
      "block2_conv1 (Conv2D)        (None, 112, 112, 128)     73856     \n",
      "_________________________________________________________________\n",
      "block2_conv2 (Conv2D)        (None, 112, 112, 128)     147584    \n",
      "_________________________________________________________________\n",
      "block2_pool (MaxPooling2D)   (None, 56, 56, 128)       0         \n",
      "_________________________________________________________________\n",
      "block3_conv1 (Conv2D)        (None, 56, 56, 256)       295168    \n",
      "_________________________________________________________________\n",
      "block3_conv2 (Conv2D)        (None, 56, 56, 256)       590080    \n",
      "_________________________________________________________________\n",
      "block3_conv3 (Conv2D)        (None, 56, 56, 256)       590080    \n",
      "_________________________________________________________________\n",
      "block3_pool (MaxPooling2D)   (None, 28, 28, 256)       0         \n",
      "_________________________________________________________________\n",
      "block4_conv1 (Conv2D)        (None, 28, 28, 512)       1180160   \n",
      "_________________________________________________________________\n",
      "block4_conv2 (Conv2D)        (None, 28, 28, 512)       2359808   \n",
      "_________________________________________________________________\n",
      "block4_conv3 (Conv2D)        (None, 28, 28, 512)       2359808   \n",
      "_________________________________________________________________\n",
      "block4_pool (MaxPooling2D)   (None, 14, 14, 512)       0         \n",
      "_________________________________________________________________\n",
      "block5_conv1 (Conv2D)        (None, 14, 14, 512)       2359808   \n",
      "_________________________________________________________________\n",
      "block5_conv2 (Conv2D)        (None, 14, 14, 512)       2359808   \n",
      "_________________________________________________________________\n",
      "block5_conv3 (Conv2D)        (None, 14, 14, 512)       2359808   \n",
      "_________________________________________________________________\n",
      "block5_pool (MaxPooling2D)   (None, 7, 7, 512)         0         \n",
      "=================================================================\n",
      "Total params: 14,714,688\n",
      "Trainable params: 7,079,424\n",
      "Non-trainable params: 7,635,264\n",
      "_________________________________________________________________\n"
     ]
    }
   ],
   "source": [
    "base_model.summary()"
   ]
  },
  {
   "cell_type": "code",
   "execution_count": null,
   "metadata": {},
   "outputs": [],
   "source": []
  },
  {
   "cell_type": "code",
   "execution_count": null,
   "metadata": {},
   "outputs": [],
   "source": []
  },
  {
   "cell_type": "code",
   "execution_count": null,
   "metadata": {},
   "outputs": [],
   "source": []
  },
  {
   "cell_type": "code",
   "execution_count": null,
   "metadata": {},
   "outputs": [],
   "source": []
  },
  {
   "cell_type": "code",
   "execution_count": null,
   "metadata": {},
   "outputs": [],
   "source": []
  },
  {
   "cell_type": "code",
   "execution_count": 23,
   "metadata": {},
   "outputs": [],
   "source": [
    "inpt = Input(shape=(224,224,3),name = 'image_input')"
   ]
  },
  {
   "cell_type": "code",
   "execution_count": 24,
   "metadata": {},
   "outputs": [],
   "source": [
    "output = base_model(inpt)"
   ]
  },
  {
   "cell_type": "code",
   "execution_count": 25,
   "metadata": {},
   "outputs": [],
   "source": [
    "flat1 = Flatten(name='flatten')(output)\n",
    "class1 = Dense(1024, activation='relu', name='fc1')(flat1)\n",
    "output = Dense(12, activation='softmax', name='predictions')(class1)\n",
    "# define new model\n",
    "vgg_model = Model(inputs=inpt, outputs=output)"
   ]
  },
  {
   "cell_type": "code",
   "execution_count": 26,
   "metadata": {},
   "outputs": [
    {
     "name": "stdout",
     "output_type": "stream",
     "text": [
      "Model: \"model\"\n",
      "_________________________________________________________________\n",
      "Layer (type)                 Output Shape              Param #   \n",
      "=================================================================\n",
      "image_input (InputLayer)     [(None, 224, 224, 3)]     0         \n",
      "_________________________________________________________________\n",
      "vgg16 (Model)                (None, 7, 7, 512)         14714688  \n",
      "_________________________________________________________________\n",
      "flatten (Flatten)            (None, 25088)             0         \n",
      "_________________________________________________________________\n",
      "fc1 (Dense)                  (None, 1024)              25691136  \n",
      "_________________________________________________________________\n",
      "predictions (Dense)          (None, 12)                12300     \n",
      "=================================================================\n",
      "Total params: 40,418,124\n",
      "Trainable params: 32,782,860\n",
      "Non-trainable params: 7,635,264\n",
      "_________________________________________________________________\n"
     ]
    }
   ],
   "source": [
    "vgg_model.summary()"
   ]
  },
  {
   "cell_type": "code",
   "execution_count": 27,
   "metadata": {},
   "outputs": [],
   "source": [
    "sgd = SGD(lr=0.001,momentum=0.9)"
   ]
  },
  {
   "cell_type": "code",
   "execution_count": 28,
   "metadata": {},
   "outputs": [],
   "source": [
    "vgg_model.compile(optimizer=sgd,\n",
    "              loss='categorical_crossentropy',\n",
    "              metrics=['accuracy'])"
   ]
  },
  {
   "cell_type": "code",
   "execution_count": 29,
   "metadata": {},
   "outputs": [],
   "source": [
    "steps_per_epoch = 100\n",
    "epoch  = 100\n",
    "def my_gen(gen):\n",
    "    i=0\n",
    "    while i < steps_per_epoch * epoch:\n",
    "        try:\n",
    "            data, labels = next(gen)\n",
    "            i+=1\n",
    "            yield data, labels\n",
    "        except:\n",
    "            pass"
   ]
  },
  {
   "cell_type": "code",
   "execution_count": 30,
   "metadata": {},
   "outputs": [],
   "source": [
    "filepath=\"../checkpoints/vgg_v3_partial_unfreeze_weights_improvement-{epoch:02d}-{val_accuracy:.2f}.hdf5\""
   ]
  },
  {
   "cell_type": "code",
   "execution_count": 31,
   "metadata": {},
   "outputs": [],
   "source": [
    "from tensorflow.keras import callbacks\n",
    "my_callbacks = [\n",
    "    callbacks.EarlyStopping(monitor='val_loss', min_delta = 0.002, mode= 'min', patience=10),\n",
    "    callbacks.ReduceLROnPlateau(monitor='val_loss', factor=0.5, patience=4, verbose=0,\n",
    "    min_delta=0.01, cooldown=1, min_lr=0, mode = 'min'),\n",
    "    callbacks.ModelCheckpoint(filepath, monitor='val_accuracy', verbose=0, save_best_only=True, mode='max')\n",
    "]"
   ]
  },
  {
   "cell_type": "code",
   "execution_count": null,
   "metadata": {},
   "outputs": [],
   "source": []
  },
  {
   "cell_type": "code",
   "execution_count": null,
   "metadata": {},
   "outputs": [],
   "source": []
  },
  {
   "cell_type": "code",
   "execution_count": null,
   "metadata": {},
   "outputs": [],
   "source": []
  },
  {
   "cell_type": "code",
   "execution_count": 32,
   "metadata": {
    "collapsed": true,
    "jupyter": {
     "outputs_hidden": true
    }
   },
   "outputs": [
    {
     "name": "stdout",
     "output_type": "stream",
     "text": [
      "Epoch 1/100\n",
      "100/100 [==============================] - 91s 910ms/step - loss: 2.0868 - accuracy: 0.2694 - val_loss: 1.3816 - val_accuracy: 0.4553 - lr: 0.0010\n",
      "Epoch 2/100\n",
      "100/100 [==============================] - 90s 901ms/step - loss: 1.4272 - accuracy: 0.4709 - val_loss: 1.1477 - val_accuracy: 0.5605 - lr: 0.0010\n",
      "Epoch 3/100\n",
      "100/100 [==============================] - 90s 902ms/step - loss: 1.2212 - accuracy: 0.5328 - val_loss: 1.1400 - val_accuracy: 0.5684 - lr: 0.0010\n",
      "Epoch 4/100\n",
      "100/100 [==============================] - 89s 892ms/step - loss: 1.1347 - accuracy: 0.5647 - val_loss: 0.8915 - val_accuracy: 0.6632 - lr: 0.0010\n",
      "Epoch 5/100\n",
      "100/100 [==============================] - 90s 899ms/step - loss: 1.0419 - accuracy: 0.6047 - val_loss: 0.8646 - val_accuracy: 0.6667 - lr: 0.0010\n",
      "Epoch 6/100\n",
      "100/100 [==============================] - 89s 895ms/step - loss: 0.9674 - accuracy: 0.6359 - val_loss: 0.8004 - val_accuracy: 0.6982 - lr: 0.0010\n",
      "Epoch 7/100\n",
      "100/100 [==============================] - 89s 894ms/step - loss: 0.9059 - accuracy: 0.6562 - val_loss: 0.8408 - val_accuracy: 0.6860 - lr: 0.0010\n",
      "Epoch 8/100\n",
      "100/100 [==============================] - 90s 899ms/step - loss: 0.8556 - accuracy: 0.6787 - val_loss: 0.7474 - val_accuracy: 0.7237 - lr: 0.0010\n",
      "Epoch 9/100\n",
      "100/100 [==============================] - 89s 890ms/step - loss: 0.8339 - accuracy: 0.6822 - val_loss: 0.6939 - val_accuracy: 0.7412 - lr: 0.0010\n",
      "Epoch 10/100\n",
      "100/100 [==============================] - 89s 886ms/step - loss: 0.8318 - accuracy: 0.6886 - val_loss: 0.6686 - val_accuracy: 0.7518 - lr: 0.0010\n",
      "Epoch 11/100\n",
      "100/100 [==============================] - 88s 884ms/step - loss: 0.7440 - accuracy: 0.7138 - val_loss: 0.7126 - val_accuracy: 0.7202 - lr: 0.0010\n",
      "Epoch 12/100\n",
      "100/100 [==============================] - 89s 890ms/step - loss: 0.7411 - accuracy: 0.7163 - val_loss: 0.6530 - val_accuracy: 0.7456 - lr: 0.0010\n",
      "Epoch 13/100\n",
      "100/100 [==============================] - 89s 888ms/step - loss: 0.7370 - accuracy: 0.7244 - val_loss: 0.6337 - val_accuracy: 0.7623 - lr: 0.0010\n",
      "Epoch 14/100\n",
      "100/100 [==============================] - 89s 892ms/step - loss: 0.6832 - accuracy: 0.7409 - val_loss: 0.6453 - val_accuracy: 0.7737 - lr: 0.0010\n",
      "Epoch 15/100\n",
      "100/100 [==============================] - 89s 887ms/step - loss: 0.6995 - accuracy: 0.7341 - val_loss: 0.6169 - val_accuracy: 0.7763 - lr: 0.0010\n",
      "Epoch 16/100\n",
      "100/100 [==============================] - 89s 887ms/step - loss: 0.6710 - accuracy: 0.7464 - val_loss: 0.6123 - val_accuracy: 0.7772 - lr: 0.0010\n",
      "Epoch 17/100\n",
      "100/100 [==============================] - 89s 889ms/step - loss: 0.6312 - accuracy: 0.7609 - val_loss: 0.5738 - val_accuracy: 0.7860 - lr: 0.0010\n",
      "Epoch 18/100\n",
      "100/100 [==============================] - 89s 887ms/step - loss: 0.6240 - accuracy: 0.7703 - val_loss: 0.6051 - val_accuracy: 0.7728 - lr: 0.0010\n",
      "Epoch 19/100\n",
      "100/100 [==============================] - 89s 888ms/step - loss: 0.6205 - accuracy: 0.7672 - val_loss: 0.6030 - val_accuracy: 0.7816 - lr: 0.0010\n",
      "Epoch 20/100\n",
      "100/100 [==============================] - 88s 883ms/step - loss: 0.5623 - accuracy: 0.7942 - val_loss: 0.5818 - val_accuracy: 0.7833 - lr: 0.0010\n",
      "Epoch 21/100\n",
      "100/100 [==============================] - 89s 890ms/step - loss: 0.5788 - accuracy: 0.7872 - val_loss: 0.6046 - val_accuracy: 0.7737 - lr: 0.0010\n",
      "Epoch 22/100\n",
      "100/100 [==============================] - 89s 892ms/step - loss: 0.5542 - accuracy: 0.7844 - val_loss: 0.5501 - val_accuracy: 0.7982 - lr: 5.0000e-04\n",
      "Epoch 23/100\n",
      "100/100 [==============================] - 89s 889ms/step - loss: 0.4843 - accuracy: 0.8193 - val_loss: 0.5476 - val_accuracy: 0.8009 - lr: 5.0000e-04\n",
      "Epoch 24/100\n",
      "100/100 [==============================] - 89s 886ms/step - loss: 0.4886 - accuracy: 0.8213 - val_loss: 0.5144 - val_accuracy: 0.8140 - lr: 5.0000e-04\n",
      "Epoch 25/100\n",
      "100/100 [==============================] - 89s 887ms/step - loss: 0.4552 - accuracy: 0.8288 - val_loss: 0.5100 - val_accuracy: 0.8140 - lr: 5.0000e-04\n",
      "Epoch 26/100\n",
      "100/100 [==============================] - 89s 887ms/step - loss: 0.4641 - accuracy: 0.8312 - val_loss: 0.5013 - val_accuracy: 0.8307 - lr: 5.0000e-04\n",
      "Epoch 27/100\n",
      "100/100 [==============================] - 89s 886ms/step - loss: 0.4495 - accuracy: 0.8328 - val_loss: 0.6090 - val_accuracy: 0.7798 - lr: 5.0000e-04\n",
      "Epoch 28/100\n",
      "100/100 [==============================] - 89s 891ms/step - loss: 0.4726 - accuracy: 0.8278 - val_loss: 0.5272 - val_accuracy: 0.8105 - lr: 5.0000e-04\n",
      "Epoch 29/100\n",
      "100/100 [==============================] - 89s 891ms/step - loss: 0.4352 - accuracy: 0.8378 - val_loss: 0.5034 - val_accuracy: 0.8140 - lr: 5.0000e-04\n",
      "Epoch 30/100\n",
      "100/100 [==============================] - 90s 897ms/step - loss: 0.4299 - accuracy: 0.8350 - val_loss: 0.4997 - val_accuracy: 0.8096 - lr: 5.0000e-04\n",
      "Epoch 31/100\n",
      "100/100 [==============================] - 90s 899ms/step - loss: 0.4215 - accuracy: 0.8409 - val_loss: 0.5026 - val_accuracy: 0.8219 - lr: 2.5000e-04\n",
      "Epoch 32/100\n",
      "100/100 [==============================] - 89s 892ms/step - loss: 0.4134 - accuracy: 0.8473 - val_loss: 0.4761 - val_accuracy: 0.8272 - lr: 2.5000e-04\n",
      "Epoch 33/100\n",
      "100/100 [==============================] - 90s 896ms/step - loss: 0.3827 - accuracy: 0.8575 - val_loss: 0.4796 - val_accuracy: 0.8202 - lr: 2.5000e-04\n",
      "Epoch 34/100\n",
      "100/100 [==============================] - 89s 891ms/step - loss: 0.4002 - accuracy: 0.8512 - val_loss: 0.5011 - val_accuracy: 0.8114 - lr: 2.5000e-04\n",
      "Epoch 35/100\n",
      "100/100 [==============================] - 89s 892ms/step - loss: 0.3833 - accuracy: 0.8668 - val_loss: 0.4712 - val_accuracy: 0.8219 - lr: 2.5000e-04\n",
      "Epoch 36/100\n",
      "100/100 [==============================] - 90s 897ms/step - loss: 0.3634 - accuracy: 0.8647 - val_loss: 0.4910 - val_accuracy: 0.8193 - lr: 2.5000e-04\n",
      "Epoch 37/100\n",
      "100/100 [==============================] - 90s 895ms/step - loss: 0.3676 - accuracy: 0.8647 - val_loss: 0.4839 - val_accuracy: 0.8246 - lr: 1.2500e-04\n",
      "Epoch 38/100\n",
      "100/100 [==============================] - 90s 899ms/step - loss: 0.3557 - accuracy: 0.8616 - val_loss: 0.4752 - val_accuracy: 0.8342 - lr: 1.2500e-04\n",
      "Epoch 39/100\n",
      "100/100 [==============================] - 88s 883ms/step - loss: 0.3341 - accuracy: 0.8796 - val_loss: 0.4780 - val_accuracy: 0.8272 - lr: 1.2500e-04\n",
      "Epoch 40/100\n",
      "100/100 [==============================] - 89s 892ms/step - loss: 0.3405 - accuracy: 0.8759 - val_loss: 0.4697 - val_accuracy: 0.8298 - lr: 1.2500e-04\n",
      "Epoch 41/100\n",
      "100/100 [==============================] - 89s 891ms/step - loss: 0.3381 - accuracy: 0.8772 - val_loss: 0.4634 - val_accuracy: 0.8289 - lr: 6.2500e-05\n",
      "Epoch 42/100\n",
      "100/100 [==============================] - 89s 889ms/step - loss: 0.3349 - accuracy: 0.8847 - val_loss: 0.4632 - val_accuracy: 0.8395 - lr: 6.2500e-05\n",
      "Epoch 43/100\n",
      "100/100 [==============================] - 88s 883ms/step - loss: 0.3196 - accuracy: 0.8756 - val_loss: 0.4820 - val_accuracy: 0.8351 - lr: 6.2500e-05\n",
      "Epoch 44/100\n",
      "100/100 [==============================] - 89s 888ms/step - loss: 0.3418 - accuracy: 0.8766 - val_loss: 0.4621 - val_accuracy: 0.8404 - lr: 6.2500e-05\n",
      "Epoch 45/100\n",
      "100/100 [==============================] - 89s 891ms/step - loss: 0.3175 - accuracy: 0.8828 - val_loss: 0.4667 - val_accuracy: 0.8333 - lr: 6.2500e-05\n",
      "Epoch 46/100\n",
      "100/100 [==============================] - 89s 893ms/step - loss: 0.3061 - accuracy: 0.8909 - val_loss: 0.4680 - val_accuracy: 0.8316 - lr: 3.1250e-05\n",
      "Epoch 47/100\n",
      "100/100 [==============================] - 89s 891ms/step - loss: 0.3229 - accuracy: 0.8781 - val_loss: 0.4586 - val_accuracy: 0.8342 - lr: 3.1250e-05\n",
      "Epoch 48/100\n",
      "100/100 [==============================] - 89s 893ms/step - loss: 0.3005 - accuracy: 0.8916 - val_loss: 0.4626 - val_accuracy: 0.8412 - lr: 3.1250e-05\n",
      "Epoch 49/100\n",
      "100/100 [==============================] - 88s 883ms/step - loss: 0.3215 - accuracy: 0.8834 - val_loss: 0.4692 - val_accuracy: 0.8316 - lr: 3.1250e-05\n",
      "Epoch 50/100\n",
      "100/100 [==============================] - 89s 886ms/step - loss: 0.3086 - accuracy: 0.8834 - val_loss: 0.4637 - val_accuracy: 0.8351 - lr: 1.5625e-05\n",
      "Epoch 51/100\n",
      "100/100 [==============================] - 88s 884ms/step - loss: 0.3133 - accuracy: 0.8884 - val_loss: 0.4643 - val_accuracy: 0.8360 - lr: 1.5625e-05\n",
      "Epoch 52/100\n",
      "100/100 [==============================] - 89s 890ms/step - loss: 0.3052 - accuracy: 0.8916 - val_loss: 0.4631 - val_accuracy: 0.8333 - lr: 1.5625e-05\n",
      "Epoch 53/100\n",
      "100/100 [==============================] - 89s 893ms/step - loss: 0.3142 - accuracy: 0.8856 - val_loss: 0.4631 - val_accuracy: 0.8307 - lr: 1.5625e-05\n",
      "Epoch 54/100\n",
      "100/100 [==============================] - 89s 890ms/step - loss: 0.3081 - accuracy: 0.8875 - val_loss: 0.4628 - val_accuracy: 0.8360 - lr: 7.8125e-06\n",
      "Epoch 55/100\n",
      "100/100 [==============================] - 89s 892ms/step - loss: 0.3128 - accuracy: 0.8897 - val_loss: 0.4622 - val_accuracy: 0.8316 - lr: 7.8125e-06\n",
      "Epoch 56/100\n",
      "100/100 [==============================] - 89s 891ms/step - loss: 0.3215 - accuracy: 0.8828 - val_loss: 0.4619 - val_accuracy: 0.8333 - lr: 7.8125e-06\n",
      "Epoch 57/100\n",
      "100/100 [==============================] - 89s 891ms/step - loss: 0.3128 - accuracy: 0.8859 - val_loss: 0.4623 - val_accuracy: 0.8307 - lr: 7.8125e-06\n"
     ]
    }
   ],
   "source": [
    "hist= vgg_model.fit(\n",
    "        my_gen(train_generator2),\n",
    "        steps_per_epoch=steps_per_epoch,\n",
    "        epochs=epoch,\n",
    "        validation_data=validation_generator2,\n",
    "        callbacks=my_callbacks)"
   ]
  },
  {
   "cell_type": "code",
   "execution_count": 33,
   "metadata": {},
   "outputs": [],
   "source": [
    "vgg_model.save('../models/vgg_v3_partial_unfreeze.h5')"
   ]
  },
  {
   "cell_type": "code",
   "execution_count": 34,
   "metadata": {},
   "outputs": [],
   "source": [
    "#vgg_history = vgg_model.fit(X_train, y_train, epochs=10,steps_per_epoch=50,validation_data=(X_val,y_val))"
   ]
  },
  {
   "cell_type": "code",
   "execution_count": 35,
   "metadata": {},
   "outputs": [],
   "source": [
    "# test_loss, test_acc = vgg_model.evaluate(X_test, y_test, verbose=0)\n",
    "\n",
    "# print('\\nTest accuracy {:5.2f}%'.format(100*test_acc))"
   ]
  },
  {
   "cell_type": "code",
   "execution_count": 43,
   "metadata": {},
   "outputs": [
    {
     "data": {
      "image/png": "[encoded data removed]",
      "text/plain": [
       "<Figure size 1080x576 with 1 Axes>"
      ]
     },
     "metadata": {},
     "output_type": "display_data"
    },
    {
     "data": {
      "text/plain": [
       "<Figure size 432x288 with 0 Axes>"
      ]
     },
     "metadata": {},
     "output_type": "display_data"
    }
   ],
   "source": [
    "training_loss = hist.history['loss']\n",
    "test_loss = hist.history['val_loss']\n",
    "\n",
    "epoch_count = range(1,len(training_loss)+1)\n",
    "fig,ax = plt.subplots(figsize=(15,8))\n",
    "\n",
    "sns.set(font_scale=1.15)\n",
    "sns.lineplot(x=epoch_count,y=training_loss,ax=ax)\n",
    "sns.lineplot(x=epoch_count,y=test_loss,ax=ax)\n",
    "\n",
    "ax.set_title('Loss Curves: Pre-Trained VGG-16 with 2 Trained Layers',fontsize=19)\n",
    "ax.set_ylabel('Loss',fontsize=18)\n",
    "ax.set_xlabel('Epochs',fontsize=18)\n",
    "\n",
    "plt.legend(['Training Loss', 'Validation Loss'])\n",
    "#plt.xlabel('Epoch')\n",
    "#plt.ylabel('Loss')\n",
    "#plt.title('Training and Validation Loss Curves')\n",
    "plt.show();\n",
    "plt.savefig('../data/graphs/vgg_partial_unfreeze_loss.png')"
   ]
  },
  {
   "cell_type": "code",
   "execution_count": 42,
   "metadata": {},
   "outputs": [
    {
     "data": {
      "image/png": "[encoded data removed]",
      "text/plain": [
       "<Figure size 1080x576 with 1 Axes>"
      ]
     },
     "metadata": {},
     "output_type": "display_data"
    },
    {
     "data": {
      "text/plain": [
       "<Figure size 432x288 with 0 Axes>"
      ]
     },
     "metadata": {},
     "output_type": "display_data"
    }
   ],
   "source": [
    "acc = hist.history['accuracy']\n",
    "val_acc = hist.history['val_accuracy']\n",
    "\n",
    "epoch_count = range(1,len(training_loss)+1)\n",
    "\n",
    "fig,ax = plt.subplots(figsize=(15,8))\n",
    "sns.set(font_scale=1.15)\n",
    "sns.lineplot(x=epoch_count,y=acc,ax=ax)\n",
    "sns.lineplot(x=epoch_count,y=val_acc,ax=ax)\n",
    "\n",
    "ax.set_title('Accuracy Curves: Pre-Trained VGG-16 with 2 Trained Layers',fontsize=19)\n",
    "ax.set_ylabel('Accuracy',fontsize=18)\n",
    "ax.set_xlabel('Epochs',fontsize=18)\n",
    "\n",
    "plt.legend(['Training Accuracy', 'Validation Accuracy'])\n",
    "\n",
    "# plt.ylabel('Accuracy')\n",
    "# plt.ylim([min(plt.ylim()),1])\n",
    "# plt.title('Training and Validation Accuracies')\n",
    "#plt.xlabel('Epoch')\n",
    "plt.show();\n",
    "plt.savefig('../data/graphs/vgg_partial_unfreeze_accuracy.png')"
   ]
  },
  {
   "cell_type": "markdown",
   "metadata": {},
   "source": [
    "## Evaluation"
   ]
  },
  {
   "cell_type": "code",
   "execution_count": 52,
   "metadata": {},
   "outputs": [
    {
     "name": "stdout",
     "output_type": "stream",
     "text": [
      "Found 1140 images belonging to 12 classes.\n"
     ]
    }
   ],
   "source": [
    "del evaluate_generator\n",
    "\n",
    "evaluate_generator= test_datagen.flow_from_directory(\n",
    "        '../data/validation_folder',\n",
    "        target_size=(224, 224),\n",
    "        batch_size=1,\n",
    "        seed=42,\n",
    "        class_mode='categorical')"
   ]
  },
  {
   "cell_type": "code",
   "execution_count": 53,
   "metadata": {},
   "outputs": [
    {
     "data": {
      "text/plain": [
       "[0.4623292088508606, 0.8307017683982849]"
      ]
     },
     "execution_count": 53,
     "metadata": {},
     "output_type": "execute_result"
    }
   ],
   "source": [
    "STEP_SIZE_EVALUATE=evaluate_generator.n//evaluate_generator.batch_size\n",
    "\n",
    "vgg_model.evaluate_generator(generator=evaluate_generator,steps=STEP_SIZE_EVALUATE)"
   ]
  },
  {
   "cell_type": "code",
   "execution_count": null,
   "metadata": {},
   "outputs": [],
   "source": [
    "test_generator2"
   ]
  }
 ],
 "metadata": {
  "kernelspec": {
   "display_name": "Python 3",
   "language": "python",
   "name": "python3"
  },
  "language_info": {
   "codemirror_mode": {
    "name": "ipython",
    "version": 3
   },
   "file_extension": ".py",
   "mimetype": "text/x-python",
   "name": "python",
   "nbconvert_exporter": "python",
   "pygments_lexer": "ipython3",
   "version": "3.7.6"
  }
 },
 "nbformat": 4,
 "nbformat_minor": 4
}
