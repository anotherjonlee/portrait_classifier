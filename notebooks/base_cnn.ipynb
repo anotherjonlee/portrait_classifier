{
 "cells": [
  {
   "cell_type": "code",
   "execution_count": 1,
   "metadata": {},
   "outputs": [],
   "source": [
    "import sys\n",
    "sys.path.append(\"..\") ## resetting the path to the parent directory"
   ]
  },
  {
   "cell_type": "code",
   "execution_count": 2,
   "metadata": {},
   "outputs": [],
   "source": [
    "%load_ext autoreload\n",
    "%autoreload 2\n",
    "\n",
    "import pandas as pd\n",
    "import numpy as np\n",
    "import scipy.stats as stats\n",
    "import matplotlib.pyplot as plt\n",
    "import seaborn as sns\n",
    "%matplotlib inline\n",
    "plt.style.use('ggplot')"
   ]
  },
  {
   "cell_type": "code",
   "execution_count": 3,
   "metadata": {},
   "outputs": [],
   "source": [
    "import tensorflow as tf\n",
    "from tensorflow.keras import layers\n",
    "from tensorflow.keras.optimizers import Adam, SGD\n",
    "keras = tf.keras\n",
    "AUTOTUNE = tf.data.experimental.AUTOTUNE"
   ]
  },
  {
   "cell_type": "code",
   "execution_count": 4,
   "metadata": {},
   "outputs": [],
   "source": [
    "np.random.seed(101)"
   ]
  },
  {
   "cell_type": "code",
   "execution_count": 5,
   "metadata": {},
   "outputs": [],
   "source": [
    "df = pd.read_csv('../data/balanced_df.csv')"
   ]
  },
  {
   "cell_type": "code",
   "execution_count": 6,
   "metadata": {},
   "outputs": [],
   "source": [
    "constantine_df = df[df.portrait=='Antoninus Pius']"
   ]
  },
  {
   "cell_type": "code",
   "execution_count": 7,
   "metadata": {},
   "outputs": [],
   "source": [
    "augustus_df = df[df.portrait=='Diocletian']"
   ]
  },
  {
   "cell_type": "code",
   "execution_count": 8,
   "metadata": {},
   "outputs": [],
   "source": [
    "frames = [constantine_df,augustus_df]\n",
    "\n",
    "demo_df = pd.concat(frames).reset_index(drop=True)"
   ]
  },
  {
   "cell_type": "code",
   "execution_count": 9,
   "metadata": {},
   "outputs": [],
   "source": [
    "demo_df.drop('Unnamed: 0',axis=1,inplace=True)"
   ]
  },
  {
   "cell_type": "code",
   "execution_count": 10,
   "metadata": {},
   "outputs": [],
   "source": [
    "def filename_appender(df):\n",
    "    df.fname = df.fname.apply(lambda x: '../img/' + x + '.jpg')\n",
    "    return df"
   ]
  },
  {
   "cell_type": "code",
   "execution_count": 11,
   "metadata": {},
   "outputs": [],
   "source": [
    "df = filename_appender(df)\n",
    "demo_df = filename_appender(demo_df)"
   ]
  },
  {
   "cell_type": "code",
   "execution_count": 12,
   "metadata": {},
   "outputs": [],
   "source": [
    "from sklearn.preprocessing import LabelEncoder\n",
    "\n",
    "LE = LabelEncoder()\n",
    "demo_df['code'] = LE.fit_transform(demo_df['portrait'])"
   ]
  },
  {
   "cell_type": "code",
   "execution_count": 13,
   "metadata": {},
   "outputs": [],
   "source": [
    "from sklearn.model_selection import train_test_split\n",
    "\n",
    "X = demo_df.drop('code',axis=1)\n",
    "\n",
    "y = demo_df.code\n",
    "\n",
    "X_train, X_test, y_train,y_test = train_test_split(X,y, test_size=0.1)\n",
    "\n",
    "X_train, X_val, y_train, y_val = train_test_split(X_train,y_train, test_size=0.1)"
   ]
  },
  {
   "cell_type": "code",
   "execution_count": 14,
   "metadata": {},
   "outputs": [],
   "source": [
    "# The format specification here left pads zeros on the number: 0004.\n",
    "train_filenames = [fname for fname in X_train.fname]\n",
    "val_filenames = [fname for fname in X_val.fname]\n",
    "test_filenames = [fname for fname in X_test.fname]"
   ]
  },
  {
   "cell_type": "markdown",
   "metadata": {},
   "source": [
    "## Preparing datasets\n",
    "### Finding and deleting corrupted images that Tensorflow cannot handle"
   ]
  },
  {
   "cell_type": "code",
   "execution_count": 15,
   "metadata": {},
   "outputs": [],
   "source": [
    "def reset_indices(arr):\n",
    "    arr.reset_index(drop=True,inplace=True)\n",
    "    return arr"
   ]
  },
  {
   "cell_type": "code",
   "execution_count": 16,
   "metadata": {},
   "outputs": [],
   "source": [
    "def load_and_preprocess_image(path):\n",
    "    image = tf.io.read_file(path)\n",
    "    image = tf.image.decode_jpeg(image, channels=3)\n",
    "    image = tf.image.convert_image_dtype(image, tf.float32)\n",
    "    image = tf.image.resize(image, [150, 150])\n",
    "    image /= 255.0\n",
    "    return image\n",
    "\n",
    "def remove_corrupt_files(filenames,y_arr):\n",
    "    imgs = []\n",
    "    safe_idx = []\n",
    "    y_arr = reset_indices(y_arr)\n",
    "    for i,filename in enumerate(filenames):        \n",
    "        # Try reading, decoding, resizing and normalizing images\n",
    "        # Only appends files that do not cause any errors to an 'imgs' list\n",
    "        try:\n",
    "            img = load_and_preprocess_image(filename)\n",
    "            imgs.append(np.asarray(img))  \n",
    "            safe_idx.append(i)\n",
    "        # If error occurs, skip to the next file and remove the file from the y array using its index\n",
    "        except:\n",
    "            \n",
    "            del y_arr[i]\n",
    "            continue\n",
    "              \n",
    "    X = np.asarray(imgs)\n",
    "    y = np.asarray(y_arr)\n",
    "    \n",
    "    return X, y, safe_idx"
   ]
  },
  {
   "cell_type": "code",
   "execution_count": 17,
   "metadata": {},
   "outputs": [],
   "source": [
    "X_train,y_train, train_idx = remove_corrupt_files(train_filenames,y_train)\n",
    "X_val,y_val, val_idx = remove_corrupt_files(val_filenames,y_val)\n",
    "X_test,y_test, test_idx = remove_corrupt_files(test_filenames,y_test)"
   ]
  },
  {
   "cell_type": "markdown",
   "metadata": {},
   "source": [
    "## Training the tensorflow model"
   ]
  },
  {
   "cell_type": "code",
   "execution_count": 18,
   "metadata": {},
   "outputs": [],
   "source": [
    "# from tensorflow.keras import backend as K\n",
    "# img_width, img_height = 150, 150\n",
    "# if K.image_data_format() == 'channels_first':\n",
    "#     input_shape = (3, img_width, img_height)\n",
    "# else:\n",
    "#     input_shape = (img_width, img_height, 3)"
   ]
  },
  {
   "cell_type": "code",
   "execution_count": 19,
   "metadata": {},
   "outputs": [],
   "source": [
    "from tensorflow.keras import backend as K\n",
    "img_width, img_height = 150, 150\n",
    "if K.image_data_format() == 'channels_first':\n",
    "    input_shape = (3, img_width, img_height)\n",
    "else:\n",
    "    input_shape = (img_width, img_height, 3)"
   ]
  },
  {
   "cell_type": "code",
   "execution_count": 20,
   "metadata": {},
   "outputs": [],
   "source": [
    "# Change to be committed after fitting is complete\n",
    "model = keras.models.Sequential()\n",
    "model.add(keras.layers.Conv2D(32, (3, 3), activation = 'relu', input_shape=(input_shape), padding='same'))\n",
    "model.add(keras.layers.Conv2D(32, (3, 3), activation='relu', padding='same'))\n",
    "model.add(keras.layers.MaxPooling2D(pool_size=(2, 2)))\n",
    "\n",
    "model.add(keras.layers.Conv2D(64, (3, 3), activation='relu', padding='same'))\n",
    "model.add(keras.layers.Conv2D(64, (3, 3), activation='relu', padding='same'))\n",
    "model.add(keras.layers.MaxPooling2D(pool_size=(2, 2)))\n",
    "\n",
    "model.add(keras.layers.Conv2D(96, (3, 3),activation = 'relu', padding='same'))\n",
    "model.add(keras.layers.Conv2D(96, (3, 3),activation = 'relu', padding='same'))\n",
    "model.add(keras.layers.MaxPooling2D(pool_size=(2, 2)))\n",
    "\n",
    "\n",
    "model.add(keras.layers.Flatten())  # this converts our 3D feature maps to 1D feature vectors\n",
    "model.add(keras.layers.Dense(256, activation = 'relu'))\n",
    "model.add(keras.layers.Dropout(0.8))\n",
    "model.add(keras.layers.Dense(10, activation = 'softmax'))\n",
    "#new_model.add(keras.layers.Dense(10,  activation = \"softmax\"))"
   ]
  },
  {
   "cell_type": "code",
   "execution_count": 21,
   "metadata": {},
   "outputs": [
    {
     "name": "stdout",
     "output_type": "stream",
     "text": [
      "Model: \"sequential\"\n",
      "_________________________________________________________________\n",
      "Layer (type)                 Output Shape              Param #   \n",
      "=================================================================\n",
      "conv2d (Conv2D)              (None, 150, 150, 32)      896       \n",
      "_________________________________________________________________\n",
      "conv2d_1 (Conv2D)            (None, 150, 150, 32)      9248      \n",
      "_________________________________________________________________\n",
      "max_pooling2d (MaxPooling2D) (None, 75, 75, 32)        0         \n",
      "_________________________________________________________________\n",
      "conv2d_2 (Conv2D)            (None, 75, 75, 64)        18496     \n",
      "_________________________________________________________________\n",
      "conv2d_3 (Conv2D)            (None, 75, 75, 64)        36928     \n",
      "_________________________________________________________________\n",
      "max_pooling2d_1 (MaxPooling2 (None, 37, 37, 64)        0         \n",
      "_________________________________________________________________\n",
      "conv2d_4 (Conv2D)            (None, 37, 37, 96)        55392     \n",
      "_________________________________________________________________\n",
      "conv2d_5 (Conv2D)            (None, 37, 37, 96)        83040     \n",
      "_________________________________________________________________\n",
      "max_pooling2d_2 (MaxPooling2 (None, 18, 18, 96)        0         \n",
      "_________________________________________________________________\n",
      "flatten (Flatten)            (None, 31104)             0         \n",
      "_________________________________________________________________\n",
      "dense (Dense)                (None, 256)               7962880   \n",
      "_________________________________________________________________\n",
      "dropout (Dropout)            (None, 256)               0         \n",
      "_________________________________________________________________\n",
      "dense_1 (Dense)              (None, 10)                2570      \n",
      "=================================================================\n",
      "Total params: 8,169,450\n",
      "Trainable params: 8,169,450\n",
      "Non-trainable params: 0\n",
      "_________________________________________________________________\n"
     ]
    }
   ],
   "source": [
    "model.summary()"
   ]
  },
  {
   "cell_type": "code",
   "execution_count": 22,
   "metadata": {},
   "outputs": [],
   "source": [
    "optimizer = Adam(lr=0.001)\n",
    "opt = SGD(lr=0.001, momentum=0.9)"
   ]
  },
  {
   "cell_type": "code",
   "execution_count": 23,
   "metadata": {},
   "outputs": [],
   "source": [
    "model.compile(optimizer=opt,\n",
    "              loss='sparse_categorical_crossentropy',\n",
    "              metrics=['accuracy'])"
   ]
  },
  {
   "cell_type": "code",
   "execution_count": 24,
   "metadata": {},
   "outputs": [],
   "source": [
    "from tensorflow.keras import callbacks\n",
    "my_callbacks = [\n",
    "    callbacks.EarlyStopping(monitor='loss', mode= 'min', patience=4),\n",
    "    callbacks.ReduceLROnPlateau(monitor='val_loss', factor=0.5, patience=2, verbose=0,\n",
    "    min_delta=0.001, cooldown=1, min_lr=0, mode = 'min')\n",
    "]"
   ]
  },
  {
   "cell_type": "code",
   "execution_count": 25,
   "metadata": {},
   "outputs": [
    {
     "name": "stdout",
     "output_type": "stream",
     "text": [
      "Epoch 1/100\n",
      "54/54 [==============================] - 99s 2s/step - loss: 1.7235 - accuracy: 0.4704 - val_loss: 0.7181 - val_accuracy: 0.4474 - lr: 0.0010\n",
      "Epoch 2/100\n",
      "54/54 [==============================] - 101s 2s/step - loss: 0.8246 - accuracy: 0.5015 - val_loss: 0.7010 - val_accuracy: 0.4474 - lr: 0.0010\n",
      "Epoch 3/100\n",
      "54/54 [==============================] - 98s 2s/step - loss: 0.7589 - accuracy: 0.5126 - val_loss: 0.6889 - val_accuracy: 0.5526 - lr: 0.0010\n",
      "Epoch 4/100\n",
      "54/54 [==============================] - 202s 4s/step - loss: 0.7484 - accuracy: 0.4892 - val_loss: 0.6909 - val_accuracy: 0.5526 - lr: 0.0010\n",
      "Epoch 5/100\n",
      "54/54 [==============================] - 456s 8s/step - loss: 0.7338 - accuracy: 0.5021 - val_loss: 0.6952 - val_accuracy: 0.5526 - lr: 0.0010\n",
      "Epoch 6/100\n",
      "54/54 [==============================] - 326s 6s/step - loss: 0.7334 - accuracy: 0.4798 - val_loss: 0.6972 - val_accuracy: 0.4474 - lr: 5.0000e-04\n",
      "Epoch 7/100\n",
      "54/54 [==============================] - 107s 2s/step - loss: 0.7229 - accuracy: 0.5120 - val_loss: 0.6878 - val_accuracy: 0.5526 - lr: 5.0000e-04\n",
      "Epoch 8/100\n",
      "54/54 [==============================] - 242s 4s/step - loss: 0.7196 - accuracy: 0.4944 - val_loss: 0.6969 - val_accuracy: 0.4474 - lr: 5.0000e-04\n",
      "Epoch 9/100\n",
      "54/54 [==============================] - 99s 2s/step - loss: 0.7154 - accuracy: 0.4915 - val_loss: 0.7265 - val_accuracy: 0.4474 - lr: 5.0000e-04\n",
      "Epoch 10/100\n",
      "54/54 [==============================] - 211s 4s/step - loss: 0.7107 - accuracy: 0.5267 - val_loss: 0.6990 - val_accuracy: 0.4474 - lr: 2.5000e-04\n",
      "Epoch 11/100\n",
      "54/54 [==============================] - 131s 2s/step - loss: 0.7146 - accuracy: 0.4722 - val_loss: 0.6947 - val_accuracy: 0.4474 - lr: 2.5000e-04\n",
      "Epoch 12/100\n",
      "54/54 [==============================] - 173s 3s/step - loss: 0.7085 - accuracy: 0.4944 - val_loss: 0.6934 - val_accuracy: 0.4474 - lr: 1.2500e-04\n",
      "Epoch 13/100\n",
      "54/54 [==============================] - 172s 3s/step - loss: 0.7106 - accuracy: 0.4933 - val_loss: 0.6994 - val_accuracy: 0.4474 - lr: 1.2500e-04\n",
      "Epoch 14/100\n",
      "54/54 [==============================] - 202s 4s/step - loss: 0.7049 - accuracy: 0.4897 - val_loss: 0.6929 - val_accuracy: 0.5526 - lr: 6.2500e-05\n",
      "Epoch 15/100\n",
      "54/54 [==============================] - 211s 4s/step - loss: 0.7024 - accuracy: 0.4950 - val_loss: 0.6972 - val_accuracy: 0.4474 - lr: 6.2500e-05\n",
      "Epoch 16/100\n",
      "54/54 [==============================] - 249s 5s/step - loss: 0.7014 - accuracy: 0.5202 - val_loss: 0.6958 - val_accuracy: 0.4474 - lr: 3.1250e-05\n",
      "Epoch 17/100\n",
      "54/54 [==============================] - 98s 2s/step - loss: 0.7011 - accuracy: 0.5231 - val_loss: 0.6954 - val_accuracy: 0.4474 - lr: 3.1250e-05\n",
      "Epoch 18/100\n",
      "54/54 [==============================] - 229s 4s/step - loss: 0.7027 - accuracy: 0.4950 - val_loss: 0.6957 - val_accuracy: 0.4474 - lr: 1.5625e-05\n",
      "Epoch 19/100\n",
      "54/54 [==============================] - 110s 2s/step - loss: 0.7055 - accuracy: 0.4798 - val_loss: 0.6961 - val_accuracy: 0.4474 - lr: 1.5625e-05\n",
      "Epoch 20/100\n",
      "54/54 [==============================] - 194s 4s/step - loss: 0.7040 - accuracy: 0.4927 - val_loss: 0.6952 - val_accuracy: 0.4474 - lr: 7.8125e-06\n",
      "Epoch 21/100\n",
      "54/54 [==============================] - 143s 3s/step - loss: 0.7032 - accuracy: 0.4938 - val_loss: 0.6954 - val_accuracy: 0.4474 - lr: 7.8125e-06\n"
     ]
    }
   ],
   "source": [
    "history = model.fit(X_train, y_train, epochs=100,\n",
    "         validation_data=(X_val,y_val),callbacks = my_callbacks)"
   ]
  },
  {
   "cell_type": "code",
   "execution_count": 26,
   "metadata": {},
   "outputs": [
    {
     "name": "stdout",
     "output_type": "stream",
     "text": [
      "\n",
      "Test accuracy 49.29%\n"
     ]
    }
   ],
   "source": [
    "test_loss, test_acc = model.evaluate(X_test, y_test, verbose=0)\n",
    "\n",
    "print('\\nTest accuracy {:5.2f}%'.format(100*test_acc))"
   ]
  },
  {
   "cell_type": "markdown",
   "metadata": {},
   "source": [
    "## Visualize the model"
   ]
  },
  {
   "cell_type": "code",
   "execution_count": 27,
   "metadata": {},
   "outputs": [
    {
     "data": {
      "image/png": "[encoded data removed]",
      "text/plain": [
       "<Figure size 432x288 with 1 Axes>"
      ]
     },
     "metadata": {},
     "output_type": "display_data"
    }
   ],
   "source": [
    "training_loss = history.history['loss']\n",
    "test_loss = history.history['val_loss']\n",
    "\n",
    "epoch_count = range(1,len(training_loss)+1)\n",
    "\n",
    "plt.plot(epoch_count,training_loss,'r--')\n",
    "plt.plot(epoch_count,test_loss,'b-')\n",
    "plt.legend(['Training Loss', 'Validation Loss'])\n",
    "plt.xlabel('Epoch')\n",
    "plt.ylabel('Loss')\n",
    "plt.show();"
   ]
  },
  {
   "cell_type": "code",
   "execution_count": 28,
   "metadata": {},
   "outputs": [
    {
     "data": {
      "image/png": "[encoded data removed]",
      "text/plain": [
       "<Figure size 432x288 with 1 Axes>"
      ]
     },
     "metadata": {},
     "output_type": "display_data"
    }
   ],
   "source": [
    "acc = history.history['accuracy']\n",
    "val_acc = history.history['val_accuracy']\n",
    "\n",
    "epoch_count = range(1,len(training_loss)+1)\n",
    "\n",
    "plt.plot(acc, 'r--', label='Training Accuracy')\n",
    "plt.plot(val_acc, 'b-', label='Validation Accuracy')\n",
    "plt.legend(loc='lower right')\n",
    "plt.ylabel('Accuracy')\n",
    "plt.ylim([min(plt.ylim()),1])\n",
    "plt.title('Training and Validation Accuracy');\n"
   ]
  },
  {
   "cell_type": "code",
   "execution_count": null,
   "metadata": {},
   "outputs": [],
   "source": []
  }
 ],
 "metadata": {
  "kernelspec": {
   "display_name": "Python 3",
   "language": "python",
   "name": "python3"
  },
  "language_info": {
   "codemirror_mode": {
    "name": "ipython",
    "version": 3
   },
   "file_extension": ".py",
   "mimetype": "text/x-python",
   "name": "python",
   "nbconvert_exporter": "python",
   "pygments_lexer": "ipython3",
   "version": "3.7.6"
  }
 },
 "nbformat": 4,
 "nbformat_minor": 4
}
