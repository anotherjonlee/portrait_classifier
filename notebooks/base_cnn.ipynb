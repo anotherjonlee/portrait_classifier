{
 "cells": [
  {
   "cell_type": "code",
   "execution_count": 1,
   "metadata": {},
   "outputs": [],
   "source": [
    "import sys\n",
    "sys.path.append(\"..\") ## resetting the path to the parent directory"
   ]
  },
  {
   "cell_type": "code",
   "execution_count": 2,
   "metadata": {},
   "outputs": [],
   "source": [
    "%load_ext autoreload\n",
    "%autoreload 2\n",
    "\n",
    "import pandas as pd\n",
    "import numpy as np\n",
    "import scipy.stats as stats\n",
    "import matplotlib.pyplot as plt\n",
    "import seaborn as sns\n",
    "%matplotlib inline\n",
    "plt.style.use('ggplot')"
   ]
  },
  {
   "cell_type": "code",
   "execution_count": 3,
   "metadata": {},
   "outputs": [],
   "source": [
    "import tensorflow as tf\n",
    "from tensorflow import keras\n",
    "from tensorflow.keras import layers\n",
    "from tensorflow.keras.optimizers import Adam, SGD\n",
    "from tensorflow.keras.models import Sequential\n",
    "from tensorflow.keras.layers import Conv2D, MaxPooling2D\n",
    "from tensorflow.keras.layers import Activation, Dropout, Flatten, Dense\n",
    "#keras = tf.keras\n",
    "AUTOTUNE = tf.data.experimental.AUTOTUNE"
   ]
  },
  {
   "cell_type": "code",
   "execution_count": 4,
   "metadata": {},
   "outputs": [],
   "source": [
    "np.random.seed(101)"
   ]
  },
  {
   "cell_type": "code",
   "execution_count": 5,
   "metadata": {},
   "outputs": [],
   "source": [
    "df = pd.read_csv('../data/cleaned_data.csv').drop('Unnamed: 0',axis=1)"
   ]
  },
  {
   "cell_type": "code",
   "execution_count": 6,
   "metadata": {},
   "outputs": [],
   "source": [
    "#df.drop('Unnamed: 0',axis=1,inplace=True)"
   ]
  },
  {
   "cell_type": "code",
   "execution_count": 7,
   "metadata": {},
   "outputs": [],
   "source": [
    "def filename_appender(df):\n",
    "    df.fname = df.fname.apply(lambda x: '../img/' + x + '.jpg')\n",
    "    return df"
   ]
  },
  {
   "cell_type": "code",
   "execution_count": 8,
   "metadata": {},
   "outputs": [],
   "source": [
    "#df = filename_appender(df)"
   ]
  },
  {
   "cell_type": "code",
   "execution_count": 9,
   "metadata": {},
   "outputs": [],
   "source": [
    "from sklearn.model_selection import train_test_split\n",
    "\n",
    "X = df.drop('code',axis=1)\n",
    "\n",
    "y = df.code\n",
    "\n",
    "X_train, X_test, y_train,y_test = train_test_split(X,y, test_size=0.1)\n",
    "\n",
    "X_train, X_val, y_train, y_val = train_test_split(X_train,y_train, test_size=0.1)"
   ]
  },
  {
   "cell_type": "code",
   "execution_count": 10,
   "metadata": {},
   "outputs": [],
   "source": [
    "# The format specification here left pads zeros on the number: 0004.\n",
    "train_filenames = [fname for fname in X_train.fname]\n",
    "val_filenames = [fname for fname in X_val.fname]\n",
    "test_filenames = [fname for fname in X_test.fname]"
   ]
  },
  {
   "cell_type": "code",
   "execution_count": 11,
   "metadata": {},
   "outputs": [],
   "source": [
    "df.to_csv('../data/cleaned_data.csv')"
   ]
  },
  {
   "cell_type": "markdown",
   "metadata": {},
   "source": [
    "## Preparing datasets\n",
    "### Finding and deleting corrupted images that Tensorflow cannot handle"
   ]
  },
  {
   "cell_type": "code",
   "execution_count": 12,
   "metadata": {},
   "outputs": [],
   "source": [
    "def reset_indices(arr):\n",
    "    arr.reset_index(drop=True,inplace=True)\n",
    "    return arr"
   ]
  },
  {
   "cell_type": "code",
   "execution_count": 13,
   "metadata": {},
   "outputs": [],
   "source": [
    "def load_and_preprocess_image(path):\n",
    "    image = tf.io.read_file(path)\n",
    "    image = tf.image.decode_jpeg(image, channels=3)\n",
    "    image = tf.image.convert_image_dtype(image, tf.float32)\n",
    "    image = tf.image.resize(image, [150, 150])\n",
    "    image /= 255.0\n",
    "    return image\n",
    "\n",
    "def remove_corrupt_files(filenames,y_arr):\n",
    "    imgs = []\n",
    "    \n",
    "    y_arr = reset_indices(y_arr)\n",
    "    for i,filename in enumerate(filenames):        \n",
    "        # Try reading, decoding, resizing and normalizing images\n",
    "        # Only appends files that do not cause any errors to an 'imgs' list\n",
    "        try:\n",
    "            img = load_and_preprocess_image(filename)\n",
    "            imgs.append(np.asarray(img))  \n",
    "\n",
    "            # If error occurs, skip to the next file and remove the file from the y array using its index\n",
    "        except:\n",
    "            \n",
    "            del y_arr[i]\n",
    "            continue\n",
    "              \n",
    "    X = np.asarray(imgs)\n",
    "    y = np.asarray(y_arr)\n",
    "    \n",
    "    return X, y"
   ]
  },
  {
   "cell_type": "code",
   "execution_count": 14,
   "metadata": {},
   "outputs": [],
   "source": [
    "X_train_f,y_train_f = remove_corrupt_files(train_filenames,y_train)\n",
    "X_val_f,y_val_f = remove_corrupt_files(val_filenames,y_val)\n",
    "X_test_f,y_test_f = remove_corrupt_files(test_filenames,y_test)"
   ]
  },
  {
   "cell_type": "markdown",
   "metadata": {},
   "source": [
    "## Training the tensorflow model"
   ]
  },
  {
   "cell_type": "code",
   "execution_count": 15,
   "metadata": {},
   "outputs": [],
   "source": [
    "# from tensorflow.keras import backend as K\n",
    "# img_width, img_height = 150, 150\n",
    "# if K.image_data_format() == 'channels_first':\n",
    "#     input_shape = (3, img_width, img_height)\n",
    "# else:\n",
    "#     input_shape = (img_width, img_height, 3)"
   ]
  },
  {
   "cell_type": "code",
   "execution_count": 16,
   "metadata": {},
   "outputs": [],
   "source": [
    "from tensorflow.keras import backend as K\n",
    "img_width, img_height = 150, 150\n",
    "if K.image_data_format() == 'channels_first':\n",
    "    input_shape = (3, img_width, img_height)\n",
    "else:\n",
    "    input_shape = (img_width, img_height, 3)"
   ]
  },
  {
   "cell_type": "code",
   "execution_count": 17,
   "metadata": {},
   "outputs": [],
   "source": [
    "# # Change to be committed after fitting is complete\n",
    "# model = keras.models.Sequential()\n",
    "# model.add(keras.layers.Conv2D(32, (3, 3), activation = 'relu', input_shape=(input_shape), padding='same'))\n",
    "# model.add(keras.layers.Conv2D(32, (3, 3), activation='relu', padding='same'))\n",
    "# model.add(keras.layers.MaxPooling2D(pool_size=(2, 2)))\n",
    "\n",
    "# model.add(keras.layers.Conv2D(64, (3, 3), activation='relu', padding='same'))\n",
    "# model.add(keras.layers.Conv2D(64, (3, 3), activation='relu', padding='same'))\n",
    "# model.add(keras.layers.MaxPooling2D(pool_size=(2, 2)))\n",
    "\n",
    "# model.add(keras.layers.Conv2D(96, (3, 3),activation = 'relu', padding='same'))\n",
    "# model.add(keras.layers.Conv2D(96, (3, 3),activation = 'relu', padding='same'))\n",
    "# model.add(keras.layers.MaxPooling2D(pool_size=(2, 2)))\n",
    "\n",
    "\n",
    "# model.add(keras.layers.Flatten())  # this converts our 3D feature maps to 1D feature vectors\n",
    "# model.add(keras.layers.Dense(256, activation = 'relu'))\n",
    "# model.add(keras.layers.Dropout(0.8))\n",
    "# model.add(keras.layers.Dense(10, activation = 'softmax'))\n",
    "# #new_model.add(keras.layers.Dense(10,  activation = \"softmax\"))"
   ]
  },
  {
   "cell_type": "code",
   "execution_count": 18,
   "metadata": {},
   "outputs": [],
   "source": [
    "model = Sequential()\n",
    "model.add(Conv2D(32, (3, 3), input_shape=(input_shape),activation='relu'))\n",
    "model.add(Conv2D(32, (3, 3), input_shape=(input_shape),activation='relu'))\n",
    "model.add(MaxPooling2D(pool_size=(2, 2)))\n",
    "\n",
    "model.add(Dropout(0.5))\n",
    "\n",
    "model.add(Conv2D(32, (3, 3)))\n",
    "model.add(Conv2D(32, (3, 3)))\n",
    "model.add(Activation('relu'))\n",
    "model.add(MaxPooling2D(pool_size=(2, 2)))\n",
    "\n",
    "model.add(Dropout(0.5))\n",
    "\n",
    "model.add(Conv2D(64, (3, 3)))\n",
    "model.add(Activation('relu'))\n",
    "model.add(MaxPooling2D(pool_size=(2, 2)))\n",
    "\n",
    "#model.add(Dropout(0.5))\n",
    "\n",
    "# model.add(Conv2D(64, (3, 3)))\n",
    "# model.add(Activation('relu'))\n",
    "# model.add(MaxPooling2D(pool_size=(2, 2)))\n",
    "\n",
    "\n",
    "# model.add(Conv2D(64, (3, 3)))\n",
    "# model.add(Activation('relu'))\n",
    "# model.add(MaxPooling2D(pool_size=(2, 2)))\n",
    "\n",
    "\n",
    "model.add(Flatten())  # this converts our 3D feature maps to 1D feature vectors\n",
    "model.add(Dense(64))\n",
    "model.add(Activation('relu'))\n",
    "model.add(Dense(64))\n",
    "model.add(Activation('relu'))\n",
    "model.add(Dense(64))\n",
    "model.add(Activation('relu'))\n",
    "model.add(Dropout(0.5))\n",
    "model.add(Dense(12))\n",
    "model.add(Activation('softmax'))\n",
    "\n",
    "optimizer = SGD(lr=0.005, momentum=0.9)\n",
    "\n",
    "model.compile(loss='sparse_categorical_crossentropy',\n",
    "              optimizer=optimizer,\n",
    "              metrics=['accuracy'])"
   ]
  },
  {
   "cell_type": "code",
   "execution_count": 19,
   "metadata": {},
   "outputs": [
    {
     "name": "stdout",
     "output_type": "stream",
     "text": [
      "Model: \"sequential\"\n",
      "_________________________________________________________________\n",
      "Layer (type)                 Output Shape              Param #   \n",
      "=================================================================\n",
      "conv2d (Conv2D)              (None, 148, 148, 32)      896       \n",
      "_________________________________________________________________\n",
      "conv2d_1 (Conv2D)            (None, 146, 146, 32)      9248      \n",
      "_________________________________________________________________\n",
      "max_pooling2d (MaxPooling2D) (None, 73, 73, 32)        0         \n",
      "_________________________________________________________________\n",
      "dropout (Dropout)            (None, 73, 73, 32)        0         \n",
      "_________________________________________________________________\n",
      "conv2d_2 (Conv2D)            (None, 71, 71, 32)        9248      \n",
      "_________________________________________________________________\n",
      "conv2d_3 (Conv2D)            (None, 69, 69, 32)        9248      \n",
      "_________________________________________________________________\n",
      "activation (Activation)      (None, 69, 69, 32)        0         \n",
      "_________________________________________________________________\n",
      "max_pooling2d_1 (MaxPooling2 (None, 34, 34, 32)        0         \n",
      "_________________________________________________________________\n",
      "dropout_1 (Dropout)          (None, 34, 34, 32)        0         \n",
      "_________________________________________________________________\n",
      "conv2d_4 (Conv2D)            (None, 32, 32, 64)        18496     \n",
      "_________________________________________________________________\n",
      "activation_1 (Activation)    (None, 32, 32, 64)        0         \n",
      "_________________________________________________________________\n",
      "max_pooling2d_2 (MaxPooling2 (None, 16, 16, 64)        0         \n",
      "_________________________________________________________________\n",
      "flatten (Flatten)            (None, 16384)             0         \n",
      "_________________________________________________________________\n",
      "dense (Dense)                (None, 64)                1048640   \n",
      "_________________________________________________________________\n",
      "activation_2 (Activation)    (None, 64)                0         \n",
      "_________________________________________________________________\n",
      "dense_1 (Dense)              (None, 64)                4160      \n",
      "_________________________________________________________________\n",
      "activation_3 (Activation)    (None, 64)                0         \n",
      "_________________________________________________________________\n",
      "dense_2 (Dense)              (None, 64)                4160      \n",
      "_________________________________________________________________\n",
      "activation_4 (Activation)    (None, 64)                0         \n",
      "_________________________________________________________________\n",
      "dropout_2 (Dropout)          (None, 64)                0         \n",
      "_________________________________________________________________\n",
      "dense_3 (Dense)              (None, 12)                780       \n",
      "_________________________________________________________________\n",
      "activation_5 (Activation)    (None, 12)                0         \n",
      "=================================================================\n",
      "Total params: 1,104,876\n",
      "Trainable params: 1,104,876\n",
      "Non-trainable params: 0\n",
      "_________________________________________________________________\n"
     ]
    }
   ],
   "source": [
    "model.summary()"
   ]
  },
  {
   "cell_type": "code",
   "execution_count": 20,
   "metadata": {},
   "outputs": [],
   "source": [
    "#optimizer = Adam(lr=0.001)\n",
    "#opt = SGD(lr=0.005, momentum=0.9)"
   ]
  },
  {
   "cell_type": "code",
   "execution_count": 21,
   "metadata": {},
   "outputs": [],
   "source": [
    "from tensorflow.keras import callbacks\n",
    "my_callbacks = [\n",
    "    callbacks.EarlyStopping(monitor='loss', mode= 'min', patience=4),\n",
    "    callbacks.ReduceLROnPlateau(monitor='val_loss', factor=0.5, patience=2, verbose=0,\n",
    "    min_delta=0.001, cooldown=1, min_lr=0, mode = 'min')\n",
    "]"
   ]
  },
  {
   "cell_type": "code",
   "execution_count": 23,
   "metadata": {},
   "outputs": [
    {
     "name": "stdout",
     "output_type": "stream",
     "text": [
      "Epoch 1/25\n",
      "321/321 [==============================] - 98s 306ms/step - loss: 2.4860 - accuracy: 0.0806 - val_loss: 2.4867 - val_accuracy: 0.0693\n",
      "Epoch 2/25\n",
      "321/321 [==============================] - 98s 305ms/step - loss: 2.4855 - accuracy: 0.0823 - val_loss: 2.4863 - val_accuracy: 0.0693\n",
      "Epoch 3/25\n",
      "321/321 [==============================] - 97s 304ms/step - loss: 2.4855 - accuracy: 0.0788 - val_loss: 2.4860 - val_accuracy: 0.0693\n",
      "Epoch 4/25\n",
      "321/321 [==============================] - 98s 304ms/step - loss: 2.4854 - accuracy: 0.0806 - val_loss: 2.4862 - val_accuracy: 0.0693\n",
      "Epoch 5/25\n",
      "321/321 [==============================] - 98s 305ms/step - loss: 2.4854 - accuracy: 0.0841 - val_loss: 2.4861 - val_accuracy: 0.0693\n",
      "Epoch 6/25\n",
      "321/321 [==============================] - 98s 305ms/step - loss: 2.4854 - accuracy: 0.0820 - val_loss: 2.4859 - val_accuracy: 0.0693\n",
      "Epoch 7/25\n",
      "321/321 [==============================] - 98s 306ms/step - loss: 2.4853 - accuracy: 0.0854 - val_loss: 2.4858 - val_accuracy: 0.0781\n",
      "Epoch 8/25\n",
      "321/321 [==============================] - 97s 303ms/step - loss: 2.4854 - accuracy: 0.0799 - val_loss: 2.4862 - val_accuracy: 0.0693\n",
      "Epoch 9/25\n",
      "321/321 [==============================] - 97s 302ms/step - loss: 2.4854 - accuracy: 0.0834 - val_loss: 2.4862 - val_accuracy: 0.0693\n",
      "Epoch 10/25\n",
      "321/321 [==============================] - 98s 304ms/step - loss: 2.4853 - accuracy: 0.0792 - val_loss: 2.4861 - val_accuracy: 0.0772\n",
      "Epoch 11/25\n",
      "321/321 [==============================] - 98s 305ms/step - loss: 2.4854 - accuracy: 0.0805 - val_loss: 2.4865 - val_accuracy: 0.0693\n",
      "Epoch 12/25\n",
      "321/321 [==============================] - 98s 306ms/step - loss: 2.4854 - accuracy: 0.0833 - val_loss: 2.4862 - val_accuracy: 0.0693\n",
      "Epoch 13/25\n",
      "321/321 [==============================] - 98s 306ms/step - loss: 2.4854 - accuracy: 0.0784 - val_loss: 2.4862 - val_accuracy: 0.0693\n",
      "Epoch 14/25\n",
      "321/321 [==============================] - 98s 305ms/step - loss: 2.4854 - accuracy: 0.0810 - val_loss: 2.4864 - val_accuracy: 0.0693\n",
      "Epoch 15/25\n",
      "321/321 [==============================] - 98s 306ms/step - loss: 2.4854 - accuracy: 0.0787 - val_loss: 2.4865 - val_accuracy: 0.0693\n",
      "Epoch 16/25\n",
      "321/321 [==============================] - 97s 302ms/step - loss: 2.4854 - accuracy: 0.0811 - val_loss: 2.4865 - val_accuracy: 0.0693\n",
      "Epoch 17/25\n",
      "321/321 [==============================] - 110s 343ms/step - loss: 2.4853 - accuracy: 0.0814 - val_loss: 2.4865 - val_accuracy: 0.0693\n",
      "Epoch 18/25\n",
      "321/321 [==============================] - 124s 385ms/step - loss: 2.4853 - accuracy: 0.0854 - val_loss: 2.4863 - val_accuracy: 0.0693\n",
      "Epoch 19/25\n",
      "321/321 [==============================] - 124s 386ms/step - loss: 2.4853 - accuracy: 0.0837 - val_loss: 2.4867 - val_accuracy: 0.0693\n",
      "Epoch 20/25\n",
      "321/321 [==============================] - 104s 325ms/step - loss: 2.4854 - accuracy: 0.0811 - val_loss: 2.4862 - val_accuracy: 0.0833\n",
      "Epoch 21/25\n",
      "321/321 [==============================] - 109s 341ms/step - loss: 2.4853 - accuracy: 0.0797 - val_loss: 2.4862 - val_accuracy: 0.0693\n",
      "Epoch 22/25\n",
      "321/321 [==============================] - 111s 346ms/step - loss: 2.4854 - accuracy: 0.0819 - val_loss: 2.4863 - val_accuracy: 0.0693\n",
      "Epoch 23/25\n",
      "321/321 [==============================] - 119s 371ms/step - loss: 2.4854 - accuracy: 0.0828 - val_loss: 2.4867 - val_accuracy: 0.0693\n",
      "Epoch 24/25\n",
      "321/321 [==============================] - 115s 357ms/step - loss: 2.4854 - accuracy: 0.0840 - val_loss: 2.4861 - val_accuracy: 0.0693\n",
      "Epoch 25/25\n",
      "321/321 [==============================] - 98s 304ms/step - loss: 2.4853 - accuracy: 0.0859 - val_loss: 2.4861 - val_accuracy: 0.0693\n"
     ]
    }
   ],
   "source": [
    "history = model.fit(X_train_f, y_train_f, epochs=25,\n",
    "         validation_data=(X_val_f,y_val_f))"
   ]
  },
  {
   "cell_type": "code",
   "execution_count": 25,
   "metadata": {},
   "outputs": [
    {
     "name": "stdout",
     "output_type": "stream",
     "text": [
      "\n",
      "Test accuracy  7.52%\n"
     ]
    }
   ],
   "source": [
    "test_loss, test_acc = model.evaluate(X_test_f, y_test_f, verbose=0)\n",
    "\n",
    "print('\\nTest accuracy {:5.2f}%'.format(100*test_acc))"
   ]
  },
  {
   "cell_type": "markdown",
   "metadata": {},
   "source": [
    "## Visualize the model"
   ]
  },
  {
   "cell_type": "code",
   "execution_count": 26,
   "metadata": {},
   "outputs": [
    {
     "data": {
      "image/png": "[encoded data removed]",
      "text/plain": [
       "<Figure size 432x288 with 1 Axes>"
      ]
     },
     "metadata": {},
     "output_type": "display_data"
    }
   ],
   "source": [
    "training_loss = history.history['loss']\n",
    "test_loss = history.history['val_loss']\n",
    "\n",
    "epoch_count = range(1,len(training_loss)+1)\n",
    "\n",
    "plt.plot(epoch_count,training_loss,'r--')\n",
    "plt.plot(epoch_count,test_loss,'b-')\n",
    "plt.legend(['Training Loss', 'Validation Loss'])\n",
    "plt.xlabel('Epoch')\n",
    "plt.ylabel('Loss')\n",
    "plt.show();"
   ]
  },
  {
   "cell_type": "code",
   "execution_count": 27,
   "metadata": {},
   "outputs": [
    {
     "data": {
      "image/png": "[encoded data removed]",
      "text/plain": [
       "<Figure size 432x288 with 1 Axes>"
      ]
     },
     "metadata": {},
     "output_type": "display_data"
    }
   ],
   "source": [
    "acc = history.history['accuracy']\n",
    "val_acc = history.history['val_accuracy']\n",
    "\n",
    "epoch_count = range(1,len(training_loss)+1)\n",
    "\n",
    "plt.plot(acc, 'r--', label='Training Accuracy')\n",
    "plt.plot(val_acc, 'b-', label='Validation Accuracy')\n",
    "plt.legend(loc='lower right')\n",
    "plt.ylabel('Accuracy')\n",
    "plt.ylim([min(plt.ylim()),1])\n",
    "plt.title('Training and Validation Accuracy');\n"
   ]
  },
  {
   "cell_type": "code",
   "execution_count": null,
   "metadata": {},
   "outputs": [],
   "source": []
  }
 ],
 "metadata": {
  "kernelspec": {
   "display_name": "Python 3",
   "language": "python",
   "name": "python3"
  },
  "language_info": {
   "codemirror_mode": {
    "name": "ipython",
    "version": 3
   },
   "file_extension": ".py",
   "mimetype": "text/x-python",
   "name": "python",
   "nbconvert_exporter": "python",
   "pygments_lexer": "ipython3",
   "version": "3.7.6"
  }
 },
 "nbformat": 4,
 "nbformat_minor": 4
}
