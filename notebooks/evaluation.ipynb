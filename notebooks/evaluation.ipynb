{
 "cells": [
  {
   "cell_type": "code",
   "execution_count": 1,
   "metadata": {},
   "outputs": [],
   "source": [
    "import sys\n",
    "sys.path.append(\"..\") ## resetting the path to the parent directory"
   ]
  },
  {
   "cell_type": "code",
   "execution_count": 2,
   "metadata": {},
   "outputs": [],
   "source": [
    "from tensorflow.keras.applications.vgg16 import VGG16\n",
    "from tensorflow.keras.models import Model, load_model"
   ]
  },
  {
   "cell_type": "code",
   "execution_count": 3,
   "metadata": {},
   "outputs": [],
   "source": [
    "from tensorflow.keras.preprocessing.image import ImageDataGenerator"
   ]
  },
  {
   "cell_type": "code",
   "execution_count": 4,
   "metadata": {},
   "outputs": [],
   "source": [
    "from sklearn.metrics import classification_report"
   ]
  },
  {
   "cell_type": "code",
   "execution_count": 5,
   "metadata": {},
   "outputs": [],
   "source": [
    "import numpy as np\n",
    "import pandas as pd"
   ]
  },
  {
   "cell_type": "code",
   "execution_count": 6,
   "metadata": {},
   "outputs": [],
   "source": [
    "model = load_model('../models/vgg_v3_partial_unfreeze.h5')\n",
    "#model = load_model('../models/little_model.h5')"
   ]
  },
  {
   "cell_type": "code",
   "execution_count": 7,
   "metadata": {},
   "outputs": [
    {
     "name": "stdout",
     "output_type": "stream",
     "text": [
      "Model: \"model\"\n",
      "_________________________________________________________________\n",
      "Layer (type)                 Output Shape              Param #   \n",
      "=================================================================\n",
      "image_input (InputLayer)     [(None, 224, 224, 3)]     0         \n",
      "_________________________________________________________________\n",
      "vgg16 (Model)                (None, 7, 7, 512)         14714688  \n",
      "_________________________________________________________________\n",
      "flatten (Flatten)            (None, 25088)             0         \n",
      "_________________________________________________________________\n",
      "fc1 (Dense)                  (None, 1024)              25691136  \n",
      "_________________________________________________________________\n",
      "predictions (Dense)          (None, 12)                12300     \n",
      "=================================================================\n",
      "Total params: 40,418,124\n",
      "Trainable params: 32,782,860\n",
      "Non-trainable params: 7,635,264\n",
      "_________________________________________________________________\n"
     ]
    }
   ],
   "source": [
    "model.summary()"
   ]
  },
  {
   "cell_type": "code",
   "execution_count": 8,
   "metadata": {},
   "outputs": [],
   "source": [
    "eval_datagen = ImageDataGenerator(rescale=1./255)"
   ]
  },
  {
   "cell_type": "code",
   "execution_count": 9,
   "metadata": {},
   "outputs": [],
   "source": [
    "test_datagen = ImageDataGenerator(rescale=1./255)"
   ]
  },
  {
   "cell_type": "code",
   "execution_count": 10,
   "metadata": {},
   "outputs": [],
   "source": [
    "dim = 224"
   ]
  },
  {
   "cell_type": "code",
   "execution_count": 11,
   "metadata": {},
   "outputs": [],
   "source": [
    "train_datagen = ImageDataGenerator(\n",
    "        rotation_range=40,\n",
    "        rescale=1./255,\n",
    "        shear_range=0.2,\n",
    "        zoom_range=0.2,\n",
    "        horizontal_flip=True,\n",
    "        fill_mode='nearest')"
   ]
  },
  {
   "cell_type": "code",
   "execution_count": 12,
   "metadata": {},
   "outputs": [
    {
     "name": "stdout",
     "output_type": "stream",
     "text": [
      "Found 10285 images belonging to 12 classes.\n"
     ]
    }
   ],
   "source": [
    "batch_size=32\n",
    "train_generator = train_datagen.flow_from_directory(\n",
    "        '../data/train_folder',  # this is the target directory\n",
    "        target_size=(dim, dim),  # all images will be resized to 150x150\n",
    "        batch_size=batch_size,\n",
    "        color_mode=\"rgb\",\n",
    "        class_mode='categorical')  # since we use binary_crossentropy loss, we need binary labels"
   ]
  },
  {
   "cell_type": "code",
   "execution_count": 13,
   "metadata": {},
   "outputs": [
    {
     "name": "stdout",
     "output_type": "stream",
     "text": [
      "Found 1140 images belonging to 12 classes.\n"
     ]
    }
   ],
   "source": [
    "evaluate_generator = eval_datagen.flow_from_directory(\n",
    "        '../data/validation_folder',\n",
    "        target_size=(dim, dim),\n",
    "        batch_size=1,\n",
    "        seed=42,\n",
    "        shuffle=False,\n",
    "        class_mode='categorical')"
   ]
  },
  {
   "cell_type": "code",
   "execution_count": 14,
   "metadata": {},
   "outputs": [
    {
     "name": "stdout",
     "output_type": "stream",
     "text": [
      "Found 1371 images belonging to 12 classes.\n"
     ]
    }
   ],
   "source": [
    "test_generator = test_datagen.flow_from_directory(\n",
    "    directory='../data/holdout_folder',\n",
    "    target_size=(dim, dim),\n",
    "    color_mode=\"rgb\",\n",
    "    batch_size=1,\n",
    "    shuffle=False,\n",
    "    class_mode=None,\n",
    "    seed=42)"
   ]
  },
  {
   "cell_type": "code",
   "execution_count": 15,
   "metadata": {},
   "outputs": [],
   "source": [
    "eval_loss, eval_acc = model.evaluate(evaluate_generator, verbose=0)"
   ]
  },
  {
   "cell_type": "code",
   "execution_count": 16,
   "metadata": {},
   "outputs": [
    {
     "name": "stdout",
     "output_type": "stream",
     "text": [
      "The validation accuracy is: 83.07%\n"
     ]
    }
   ],
   "source": [
    "print(f'The validation accuracy is: {eval_acc*100:.2f}%')"
   ]
  },
  {
   "cell_type": "code",
   "execution_count": 17,
   "metadata": {},
   "outputs": [
    {
     "name": "stdout",
     "output_type": "stream",
     "text": [
      "1371/1371 [==============================] - 44s 32ms/step\n"
     ]
    }
   ],
   "source": [
    "pred = model.predict(test_generator,verbose=1)"
   ]
  },
  {
   "cell_type": "code",
   "execution_count": 18,
   "metadata": {},
   "outputs": [],
   "source": [
    "y_pred = np.argmax(pred, axis=1)"
   ]
  },
  {
   "cell_type": "code",
   "execution_count": 19,
   "metadata": {},
   "outputs": [],
   "source": [
    "y_true = test_generator.classes\n",
    "class_labels = list(test_generator.class_indices.keys())   "
   ]
  },
  {
   "cell_type": "code",
   "execution_count": 20,
   "metadata": {},
   "outputs": [],
   "source": [
    "report = classification_report(y_true, y_pred, target_names=class_labels)"
   ]
  },
  {
   "cell_type": "code",
   "execution_count": 21,
   "metadata": {},
   "outputs": [
    {
     "name": "stdout",
     "output_type": "stream",
     "text": [
      "                 precision    recall  f1-score   support\n",
      "\n",
      " Antoninus Pius       0.85      0.90      0.87       123\n",
      "  Constantine I       0.76      0.84      0.80       116\n",
      " Constantine II       0.76      0.65      0.70       129\n",
      " Constantius II       0.74      0.81      0.77       118\n",
      "     Diocletian       0.87      0.82      0.84        92\n",
      "       Galerius       0.76      0.79      0.78       114\n",
      "      Gallienus       0.96      0.98      0.97       140\n",
      "        Hadrian       0.81      0.84      0.83       102\n",
      "       Licinius       0.85      0.82      0.84       120\n",
      "Marcus Aurelius       0.91      0.83      0.87       116\n",
      "       Maximian       0.77      0.80      0.78        88\n",
      "         Trajan       0.95      0.92      0.94       113\n",
      "\n",
      "       accuracy                           0.83      1371\n",
      "      macro avg       0.83      0.83      0.83      1371\n",
      "   weighted avg       0.84      0.83      0.83      1371\n",
      "\n"
     ]
    }
   ],
   "source": [
    "print(report)"
   ]
  },
  {
   "cell_type": "code",
   "execution_count": 22,
   "metadata": {},
   "outputs": [],
   "source": [
    "from sklearn.metrics import confusion_matrix"
   ]
  },
  {
   "cell_type": "code",
   "execution_count": 23,
   "metadata": {},
   "outputs": [
    {
     "data": {
      "text/plain": [
       "{'Antoninus Pius': 0,\n",
       " 'Constantine I': 1,\n",
       " 'Constantine II': 2,\n",
       " 'Constantius II': 3,\n",
       " 'Diocletian': 4,\n",
       " 'Galerius': 5,\n",
       " 'Gallienus': 6,\n",
       " 'Hadrian': 7,\n",
       " 'Licinius': 8,\n",
       " 'Marcus Aurelius': 9,\n",
       " 'Maximian': 10,\n",
       " 'Trajan': 11}"
      ]
     },
     "execution_count": 23,
     "metadata": {},
     "output_type": "execute_result"
    }
   ],
   "source": [
    "test_generator.class_indices"
   ]
  },
  {
   "cell_type": "code",
   "execution_count": 24,
   "metadata": {},
   "outputs": [],
   "source": [
    "sl_y_true = {val:key for key,val in test_generator.class_indices.items()}"
   ]
  },
  {
   "cell_type": "code",
   "execution_count": 25,
   "metadata": {},
   "outputs": [],
   "source": [
    "cm_y_true = [sl_y_true[val]for val in y_true]"
   ]
  },
  {
   "cell_type": "code",
   "execution_count": 26,
   "metadata": {},
   "outputs": [],
   "source": [
    "cm_y_pred = [sl_y_true[val] for val in y_pred]"
   ]
  },
  {
   "cell_type": "code",
   "execution_count": 27,
   "metadata": {},
   "outputs": [],
   "source": [
    "from sklearn.metrics import ConfusionMatrixDisplay\n"
   ]
  },
  {
   "cell_type": "code",
   "execution_count": null,
   "metadata": {},
   "outputs": [],
   "source": []
  },
  {
   "cell_type": "code",
   "execution_count": null,
   "metadata": {},
   "outputs": [],
   "source": []
  },
  {
   "cell_type": "code",
   "execution_count": null,
   "metadata": {},
   "outputs": [],
   "source": []
  },
  {
   "cell_type": "code",
   "execution_count": 28,
   "metadata": {},
   "outputs": [
    {
     "data": {
      "text/plain": [
       "array([[111,   0,   0,   0,   0,   0,   0,   6,   0,   6,   0,   0],\n",
       "       [  0,  97,   7,   8,   0,   0,   0,   0,   4,   0,   0,   0],\n",
       "       [  0,  12,  84,  19,   0,   1,   2,   2,   7,   0,   1,   1],\n",
       "       [  0,   6,  16,  95,   0,   0,   0,   1,   0,   0,   0,   0],\n",
       "       [  0,   0,   1,   1,  75,   7,   1,   0,   1,   0,   6,   0],\n",
       "       [  0,   0,   1,   0,   5,  90,   1,   0,   5,   0,  12,   0],\n",
       "       [  0,   0,   0,   2,   1,   0, 137,   0,   0,   0,   0,   0],\n",
       "       [  9,   1,   0,   1,   0,   0,   0,  86,   0,   3,   0,   2],\n",
       "       [  0,  10,   0,   0,   0,   9,   0,   0,  99,   0,   2,   0],\n",
       "       [ 10,   0,   1,   0,   0,   0,   2,   5,   0,  96,   0,   2],\n",
       "       [  0,   0,   0,   2,   4,  11,   0,   0,   1,   0,  70,   0],\n",
       "       [  1,   1,   0,   0,   1,   0,   0,   6,   0,   0,   0, 104]])"
      ]
     },
     "execution_count": 28,
     "metadata": {},
     "output_type": "execute_result"
    }
   ],
   "source": [
    "from sklearn.metrics import confusion_matrix\n",
    "\n",
    "confusion_matrix(cm_y_true,cm_y_pred)"
   ]
  },
  {
   "cell_type": "code",
   "execution_count": 39,
   "metadata": {},
   "outputs": [
    {
     "name": "stdout",
     "output_type": "stream",
     "text": [
      "[[0.90243902 0.         0.         0.         0.         0.\n",
      "  0.         0.04878049 0.         0.04878049 0.         0.        ]\n",
      " [0.         0.8362069  0.06034483 0.06896552 0.         0.\n",
      "  0.         0.         0.03448276 0.         0.         0.        ]\n",
      " [0.         0.09302326 0.65116279 0.14728682 0.         0.00775194\n",
      "  0.01550388 0.01550388 0.05426357 0.         0.00775194 0.00775194]\n",
      " [0.         0.05084746 0.13559322 0.80508475 0.         0.\n",
      "  0.         0.00847458 0.         0.         0.         0.        ]\n",
      " [0.         0.         0.01086957 0.01086957 0.81521739 0.07608696\n",
      "  0.01086957 0.         0.01086957 0.         0.06521739 0.        ]\n",
      " [0.         0.         0.00877193 0.         0.04385965 0.78947368\n",
      "  0.00877193 0.         0.04385965 0.         0.10526316 0.        ]\n",
      " [0.         0.         0.         0.01428571 0.00714286 0.\n",
      "  0.97857143 0.         0.         0.         0.         0.        ]\n",
      " [0.08823529 0.00980392 0.         0.00980392 0.         0.\n",
      "  0.         0.84313725 0.         0.02941176 0.         0.01960784]\n",
      " [0.         0.08333333 0.         0.         0.         0.075\n",
      "  0.         0.         0.825      0.         0.01666667 0.        ]\n",
      " [0.0862069  0.         0.00862069 0.         0.         0.\n",
      "  0.01724138 0.04310345 0.         0.82758621 0.         0.01724138]\n",
      " [0.         0.         0.         0.02272727 0.04545455 0.125\n",
      "  0.         0.         0.01136364 0.         0.79545455 0.        ]\n",
      " [0.00884956 0.00884956 0.         0.         0.00884956 0.\n",
      "  0.         0.05309735 0.         0.         0.         0.92035398]]\n"
     ]
    }
   ],
   "source": [
    "cm = confusion_matrix(y_true,y_pred,normalize='true')\n",
    "print(cm)"
   ]
  },
  {
   "cell_type": "code",
   "execution_count": 41,
   "metadata": {},
   "outputs": [
    {
     "name": "stdout",
     "output_type": "stream",
     "text": [
      "The autoreload extension is already loaded. To reload it, use:\n",
      "  %reload_ext autoreload\n"
     ]
    },
    {
     "data": {
      "image/png": "[encoded data removed]",
      "text/plain": [
       "<Figure size 432x288 with 2 Axes>"
      ]
     },
     "metadata": {},
     "output_type": "display_data"
    }
   ],
   "source": [
    "%load_ext autoreload\n",
    "#Satutoreload 2\n",
    "\n",
    "import pandas as pd\n",
    "import numpy as np\n",
    "import scipy.stats as stats\n",
    "import matplotlib.pyplot as plt\n",
    "import seaborn as sns\n",
    "%matplotlib inline\n",
    "plt.style.use('ggplot')\n",
    "\n",
    "fig,ax = plt.subplots()\n",
    "disp = ConfusionMatrixDisplay(confusion_matrix=cm,\n",
    "                              display_labels=class_labels)\n",
    "disp = disp.plot(include_values = False,ax=ax,xticks_rotation = 'vertical')\n",
    "plt.grid(None) \n",
    "plt.show()"
   ]
  },
  {
   "cell_type": "code",
   "execution_count": null,
   "metadata": {},
   "outputs": [],
   "source": []
  },
  {
   "cell_type": "code",
   "execution_count": null,
   "metadata": {},
   "outputs": [],
   "source": []
  },
  {
   "cell_type": "code",
   "execution_count": null,
   "metadata": {},
   "outputs": [],
   "source": [
    "%load_ext autoreload\n",
    "#Satutoreload 2\n",
    "\n",
    "import pandas as pd\n",
    "import numpy as np\n",
    "import scipy.stats as stats\n",
    "import matplotlib.pyplot as plt\n",
    "import seaborn as sns\n",
    "%matplotlib inline\n",
    "plt.style.use('ggplot')"
   ]
  },
  {
   "cell_type": "code",
   "execution_count": null,
   "metadata": {},
   "outputs": [],
   "source": [
    "sns.heatmap(cm_y_true, cm_y_pred.reshape(-1,1))"
   ]
  },
  {
   "cell_type": "code",
   "execution_count": null,
   "metadata": {},
   "outputs": [],
   "source": [
    "cm_y_true.shape"
   ]
  },
  {
   "cell_type": "code",
   "execution_count": null,
   "metadata": {},
   "outputs": [],
   "source": []
  }
 ],
 "metadata": {
  "kernelspec": {
   "display_name": "Python 3",
   "language": "python",
   "name": "python3"
  },
  "language_info": {
   "codemirror_mode": {
    "name": "ipython",
    "version": 3
   },
   "file_extension": ".py",
   "mimetype": "text/x-python",
   "name": "python",
   "nbconvert_exporter": "python",
   "pygments_lexer": "ipython3",
   "version": "3.7.6"
  }
 },
 "nbformat": 4,
 "nbformat_minor": 4
}
