{
 "cells": [
  {
   "cell_type": "code",
   "execution_count": 1,
   "metadata": {},
   "outputs": [],
   "source": [
    "import tensorflow as tf\n",
    "from tensorflow.keras.preprocessing.image import ImageDataGenerator"
   ]
  },
  {
   "cell_type": "code",
   "execution_count": 2,
   "metadata": {},
   "outputs": [],
   "source": [
    "from PIL import Image"
   ]
  },
  {
   "cell_type": "code",
   "execution_count": 3,
   "metadata": {},
   "outputs": [],
   "source": [
    "from tensorflow.keras.preprocessing.image import ImageDataGenerator, array_to_img, img_to_array, load_img"
   ]
  },
  {
   "cell_type": "code",
   "execution_count": 4,
   "metadata": {},
   "outputs": [],
   "source": [
    "#from tensorflow.keras.preprocessing import image_dataset_from_directory"
   ]
  },
  {
   "cell_type": "code",
   "execution_count": 5,
   "metadata": {},
   "outputs": [],
   "source": [
    "from tensorflow.keras.optimizers import Adam, SGD"
   ]
  },
  {
   "cell_type": "code",
   "execution_count": 6,
   "metadata": {},
   "outputs": [],
   "source": [
    "train_datagen = ImageDataGenerator(\n",
    "        rotation_range=40,\n",
    "        rescale=1./255,\n",
    "        shear_range=0.2,\n",
    "        zoom_range=0.2,\n",
    "        horizontal_flip=True,\n",
    "        fill_mode='nearest')"
   ]
  },
  {
   "cell_type": "code",
   "execution_count": 7,
   "metadata": {},
   "outputs": [],
   "source": [
    "test_datagen = ImageDataGenerator(rescale=1./255)"
   ]
  },
  {
   "cell_type": "code",
   "execution_count": 8,
   "metadata": {},
   "outputs": [],
   "source": [
    "batch_size = 32"
   ]
  },
  {
   "cell_type": "markdown",
   "metadata": {},
   "source": [
    "## vet all files can be workable with Tensorflow"
   ]
  },
  {
   "cell_type": "code",
   "execution_count": 9,
   "metadata": {},
   "outputs": [],
   "source": [
    "# import pandas as pd\n",
    "# import numpy as np\n",
    "# df=pd.read_csv('../data/cleaned_data.csv')"
   ]
  },
  {
   "cell_type": "code",
   "execution_count": 10,
   "metadata": {},
   "outputs": [],
   "source": [
    "# df"
   ]
  },
  {
   "cell_type": "code",
   "execution_count": null,
   "metadata": {},
   "outputs": [],
   "source": []
  },
  {
   "cell_type": "code",
   "execution_count": 11,
   "metadata": {},
   "outputs": [],
   "source": [
    "# train_datagen.flow_from_dataframe(\n",
    "# )"
   ]
  },
  {
   "cell_type": "code",
   "execution_count": null,
   "metadata": {},
   "outputs": [],
   "source": []
  },
  {
   "cell_type": "code",
   "execution_count": 12,
   "metadata": {},
   "outputs": [
    {
     "name": "stdout",
     "output_type": "stream",
     "text": [
      "Found 10254 images belonging to 12 classes.\n"
     ]
    }
   ],
   "source": [
    "train_generator = train_datagen.flow_from_directory(\n",
    "        '../data/train_folder',  # this is the target directory\n",
    "        target_size=(150, 150),  # all images will be resized to 150x150\n",
    "        batch_size=batch_size,\n",
    "        color_mode=\"rgb\",\n",
    "        class_mode='categorical')  # since we use binary_crossentropy loss, we need binary labels"
   ]
  },
  {
   "cell_type": "code",
   "execution_count": 13,
   "metadata": {},
   "outputs": [
    {
     "name": "stdout",
     "output_type": "stream",
     "text": [
      "Found 1140 images belonging to 12 classes.\n"
     ]
    }
   ],
   "source": [
    "validation_generator = test_datagen.flow_from_directory(\n",
    "        '../data/validation_folder',\n",
    "        target_size=(150, 150),\n",
    "        batch_size=batch_size,\n",
    "        class_mode='categorical')"
   ]
  },
  {
   "cell_type": "code",
   "execution_count": null,
   "metadata": {},
   "outputs": [],
   "source": []
  },
  {
   "cell_type": "code",
   "execution_count": 14,
   "metadata": {},
   "outputs": [],
   "source": [
    "steps_per_epoch = 100\n",
    "epoch  = 50\n",
    "def my_gen(gen):\n",
    "    i=0\n",
    "    while i < steps_per_epoch * epoch:\n",
    "        try:\n",
    "            data, labels = next(gen)\n",
    "            i+=1\n",
    "            yield data, labels\n",
    "        except:\n",
    "            pass"
   ]
  },
  {
   "cell_type": "code",
   "execution_count": 15,
   "metadata": {},
   "outputs": [],
   "source": [
    "from tensorflow.keras import backend as K\n",
    "img_width, img_height = 150, 150\n",
    "if K.image_data_format() == 'channels_first':\n",
    "    input_shape = (3, img_width, img_height)\n",
    "else:\n",
    "    input_shape = (img_width, img_height, 3)"
   ]
  },
  {
   "cell_type": "code",
   "execution_count": null,
   "metadata": {},
   "outputs": [],
   "source": [
    "from tensorflow.keras import callbacks\n",
    "my_callbacks = [\n",
    "    callbacks.EarlyStopping(monitor='loss', mode= 'min', patience=5),\n",
    "    callbacks.ReduceLROnPlateau(monitor='val_loss', factor=0.5, patience=2, verbose=0,\n",
    "    min_delta=0.001, cooldown=1, min_lr=0, mode = 'min')\n",
    "]"
   ]
  },
  {
   "cell_type": "code",
   "execution_count": 16,
   "metadata": {},
   "outputs": [],
   "source": [
    "from tensorflow.keras.models import Sequential\n",
    "from tensorflow.keras.layers import Conv2D, MaxPooling2D\n",
    "from tensorflow.keras.layers import Activation, Dropout, Flatten, Dense\n",
    "\n",
    "model = Sequential()\n",
    "model.add(Conv2D(32, (3, 3), input_shape=(input_shape)))\n",
    "model.add(Activation('relu'))\n",
    "model.add(MaxPooling2D(pool_size=(2, 2)))\n",
    "\n",
    "#model.add(Dropout(0.5))\n",
    "\n",
    "model.add(Conv2D(32, (3, 3)))\n",
    "model.add(Activation('relu'))\n",
    "model.add(MaxPooling2D(pool_size=(2, 2)))\n",
    "\n",
    "#model.add(Dropout(0.5))\n",
    "\n",
    "model.add(Conv2D(64, (3, 3)))\n",
    "model.add(Activation('relu'))\n",
    "model.add(MaxPooling2D(pool_size=(2, 2)))\n",
    "\n",
    "#model.add(Dropout(0.5))\n",
    "\n",
    "# model.add(Conv2D(64, (3, 3)))\n",
    "# model.add(Activation('relu'))\n",
    "# model.add(MaxPooling2D(pool_size=(2, 2)))\n",
    "\n",
    "\n",
    "# model.add(Conv2D(64, (3, 3)))\n",
    "# model.add(Activation('relu'))\n",
    "# model.add(MaxPooling2D(pool_size=(2, 2)))\n",
    "\n",
    "\n",
    "model.add(Flatten())  # this converts our 3D feature maps to 1D feature vectors\n",
    "model.add(Dense(64))\n",
    "model.add(Activation('relu'))\n",
    "model.add(Dropout(0.5))\n",
    "model.add(Dense(12))\n",
    "model.add(Activation('softmax'))\n",
    "\n",
    "optimizer = SGD(lr=0.005)\n",
    "\n",
    "model.compile(loss='categorical_crossentropy',\n",
    "              optimizer=optimizer,\n",
    "              metrics=['accuracy'])"
   ]
  },
  {
   "cell_type": "code",
   "execution_count": 17,
   "metadata": {},
   "outputs": [
    {
     "name": "stdout",
     "output_type": "stream",
     "text": [
      "Model: \"sequential\"\n",
      "_________________________________________________________________\n",
      "Layer (type)                 Output Shape              Param #   \n",
      "=================================================================\n",
      "conv2d (Conv2D)              (None, 148, 148, 32)      896       \n",
      "_________________________________________________________________\n",
      "activation (Activation)      (None, 148, 148, 32)      0         \n",
      "_________________________________________________________________\n",
      "max_pooling2d (MaxPooling2D) (None, 74, 74, 32)        0         \n",
      "_________________________________________________________________\n",
      "conv2d_1 (Conv2D)            (None, 72, 72, 32)        9248      \n",
      "_________________________________________________________________\n",
      "activation_1 (Activation)    (None, 72, 72, 32)        0         \n",
      "_________________________________________________________________\n",
      "max_pooling2d_1 (MaxPooling2 (None, 36, 36, 32)        0         \n",
      "_________________________________________________________________\n",
      "conv2d_2 (Conv2D)            (None, 34, 34, 64)        18496     \n",
      "_________________________________________________________________\n",
      "activation_2 (Activation)    (None, 34, 34, 64)        0         \n",
      "_________________________________________________________________\n",
      "max_pooling2d_2 (MaxPooling2 (None, 17, 17, 64)        0         \n",
      "_________________________________________________________________\n",
      "flatten (Flatten)            (None, 18496)             0         \n",
      "_________________________________________________________________\n",
      "dense (Dense)                (None, 64)                1183808   \n",
      "_________________________________________________________________\n",
      "activation_3 (Activation)    (None, 64)                0         \n",
      "_________________________________________________________________\n",
      "dropout (Dropout)            (None, 64)                0         \n",
      "_________________________________________________________________\n",
      "dense_1 (Dense)              (None, 12)                780       \n",
      "_________________________________________________________________\n",
      "activation_4 (Activation)    (None, 12)                0         \n",
      "=================================================================\n",
      "Total params: 1,213,228\n",
      "Trainable params: 1,213,228\n",
      "Non-trainable params: 0\n",
      "_________________________________________________________________\n"
     ]
    }
   ],
   "source": [
    "model.summary()"
   ]
  },
  {
   "cell_type": "code",
   "execution_count": 18,
   "metadata": {},
   "outputs": [
    {
     "name": "stdout",
     "output_type": "stream",
     "text": [
      "Epoch 1/50\n",
      "100/100 [==============================] - 19s 189ms/step - loss: 2.4859 - accuracy: 0.0866 - val_loss: 2.4764 - val_accuracy: 0.0947\n",
      "Epoch 2/50\n",
      "100/100 [==============================] - 19s 187ms/step - loss: 2.4797 - accuracy: 0.0922 - val_loss: 2.4731 - val_accuracy: 0.1377\n",
      "Epoch 3/50\n",
      "100/100 [==============================] - 19s 186ms/step - loss: 2.4749 - accuracy: 0.0975 - val_loss: 2.4690 - val_accuracy: 0.0860\n",
      "Epoch 4/50\n",
      "100/100 [==============================] - 19s 186ms/step - loss: 2.4683 - accuracy: 0.1069 - val_loss: 2.4607 - val_accuracy: 0.1509\n",
      "Epoch 5/50\n",
      "100/100 [==============================] - 19s 188ms/step - loss: 2.4634 - accuracy: 0.1056 - val_loss: 2.4508 - val_accuracy: 0.1272\n",
      "Epoch 6/50\n",
      "100/100 [==============================] - 19s 187ms/step - loss: 2.4560 - accuracy: 0.1166 - val_loss: 2.4400 - val_accuracy: 0.1272\n",
      "Epoch 7/50\n",
      "100/100 [==============================] - 19s 185ms/step - loss: 2.4466 - accuracy: 0.1304 - val_loss: 2.4226 - val_accuracy: 0.1439\n",
      "Epoch 8/50\n",
      "100/100 [==============================] - 19s 187ms/step - loss: 2.4334 - accuracy: 0.1203 - val_loss: 2.4098 - val_accuracy: 0.1526\n",
      "Epoch 9/50\n",
      "100/100 [==============================] - 19s 187ms/step - loss: 2.4253 - accuracy: 0.1281 - val_loss: 2.3983 - val_accuracy: 0.1351\n",
      "Epoch 10/50\n",
      "100/100 [==============================] - 19s 186ms/step - loss: 2.4109 - accuracy: 0.1348 - val_loss: 2.3783 - val_accuracy: 0.1632\n",
      "Epoch 11/50\n",
      "100/100 [==============================] - 19s 187ms/step - loss: 2.3878 - accuracy: 0.1450 - val_loss: 2.3349 - val_accuracy: 0.1544\n",
      "Epoch 12/50\n",
      "100/100 [==============================] - 19s 186ms/step - loss: 2.3825 - accuracy: 0.1287 - val_loss: 2.3246 - val_accuracy: 0.1456\n",
      "Epoch 13/50\n",
      "100/100 [==============================] - 19s 186ms/step - loss: 2.3629 - accuracy: 0.1442 - val_loss: 2.3078 - val_accuracy: 0.1702\n",
      "Epoch 14/50\n",
      "100/100 [==============================] - 19s 190ms/step - loss: 2.3555 - accuracy: 0.1400 - val_loss: 2.2898 - val_accuracy: 0.1746\n",
      "Epoch 15/50\n",
      "100/100 [==============================] - 19s 187ms/step - loss: 2.3377 - accuracy: 0.1531 - val_loss: 2.2799 - val_accuracy: 0.1789\n",
      "Epoch 16/50\n",
      "100/100 [==============================] - 18s 185ms/step - loss: 2.3193 - accuracy: 0.1631 - val_loss: 2.2402 - val_accuracy: 0.1789\n",
      "Epoch 17/50\n",
      "100/100 [==============================] - 19s 187ms/step - loss: 2.3168 - accuracy: 0.1503 - val_loss: 2.2547 - val_accuracy: 0.2044\n",
      "Epoch 18/50\n",
      "100/100 [==============================] - 19s 186ms/step - loss: 2.3008 - accuracy: 0.1634 - val_loss: 2.2472 - val_accuracy: 0.1807\n",
      "Epoch 19/50\n",
      "100/100 [==============================] - 19s 187ms/step - loss: 2.2755 - accuracy: 0.1616 - val_loss: 2.2097 - val_accuracy: 0.1798\n",
      "Epoch 20/50\n",
      "100/100 [==============================] - 18s 185ms/step - loss: 2.2751 - accuracy: 0.1634 - val_loss: 2.1532 - val_accuracy: 0.2053\n",
      "Epoch 21/50\n",
      "100/100 [==============================] - 19s 185ms/step - loss: 2.2660 - accuracy: 0.1584 - val_loss: 2.1711 - val_accuracy: 0.2193\n",
      "Epoch 22/50\n",
      "100/100 [==============================] - 19s 188ms/step - loss: 2.2502 - accuracy: 0.1772 - val_loss: 2.1508 - val_accuracy: 0.2026\n",
      "Epoch 23/50\n",
      "100/100 [==============================] - 19s 186ms/step - loss: 2.2439 - accuracy: 0.1766 - val_loss: 2.1482 - val_accuracy: 0.2263\n",
      "Epoch 24/50\n",
      "100/100 [==============================] - 19s 186ms/step - loss: 2.2206 - accuracy: 0.1744 - val_loss: 2.1196 - val_accuracy: 0.2026\n",
      "Epoch 25/50\n",
      "100/100 [==============================] - 19s 187ms/step - loss: 2.2215 - accuracy: 0.1828 - val_loss: 2.1162 - val_accuracy: 0.1781\n",
      "Epoch 26/50\n",
      "100/100 [==============================] - 19s 186ms/step - loss: 2.2157 - accuracy: 0.1691 - val_loss: 2.1010 - val_accuracy: 0.2132\n",
      "Epoch 27/50\n",
      "100/100 [==============================] - 19s 185ms/step - loss: 2.2117 - accuracy: 0.1813 - val_loss: 2.1022 - val_accuracy: 0.2281\n",
      "Epoch 28/50\n",
      "100/100 [==============================] - 19s 187ms/step - loss: 2.1866 - accuracy: 0.1969 - val_loss: 2.1315 - val_accuracy: 0.2018\n",
      "Epoch 29/50\n",
      "100/100 [==============================] - 19s 187ms/step - loss: 2.2116 - accuracy: 0.1813 - val_loss: 2.0769 - val_accuracy: 0.2254\n",
      "Epoch 30/50\n",
      "100/100 [==============================] - 19s 186ms/step - loss: 2.1803 - accuracy: 0.1841 - val_loss: 2.0973 - val_accuracy: 0.2368\n",
      "Epoch 31/50\n",
      "100/100 [==============================] - 19s 186ms/step - loss: 2.1851 - accuracy: 0.1847 - val_loss: 2.0636 - val_accuracy: 0.2395\n",
      "Epoch 32/50\n",
      "100/100 [==============================] - 19s 187ms/step - loss: 2.1722 - accuracy: 0.1848 - val_loss: 2.0459 - val_accuracy: 0.2298\n",
      "Epoch 33/50\n",
      "100/100 [==============================] - 19s 188ms/step - loss: 2.1664 - accuracy: 0.1981 - val_loss: 2.1016 - val_accuracy: 0.1974\n",
      "Epoch 34/50\n",
      "100/100 [==============================] - 19s 188ms/step - loss: 2.1599 - accuracy: 0.1919 - val_loss: 2.0540 - val_accuracy: 0.2351\n",
      "Epoch 35/50\n",
      "100/100 [==============================] - 18s 185ms/step - loss: 2.1425 - accuracy: 0.2093 - val_loss: 2.0483 - val_accuracy: 0.2535\n",
      "Epoch 36/50\n",
      "100/100 [==============================] - 19s 186ms/step - loss: 2.1346 - accuracy: 0.2125 - val_loss: 2.0224 - val_accuracy: 0.2684\n",
      "Epoch 37/50\n",
      "100/100 [==============================] - 19s 186ms/step - loss: 2.1161 - accuracy: 0.2144 - val_loss: 1.9978 - val_accuracy: 0.2421\n",
      "Epoch 38/50\n",
      "100/100 [==============================] - 19s 188ms/step - loss: 2.1255 - accuracy: 0.2166 - val_loss: 2.0290 - val_accuracy: 0.2649\n",
      "Epoch 39/50\n",
      "100/100 [==============================] - 19s 185ms/step - loss: 2.1092 - accuracy: 0.2206 - val_loss: 2.0049 - val_accuracy: 0.2544\n",
      "Epoch 40/50\n",
      "100/100 [==============================] - 19s 188ms/step - loss: 2.1084 - accuracy: 0.2178 - val_loss: 1.9837 - val_accuracy: 0.2447\n",
      "Epoch 41/50\n",
      "100/100 [==============================] - 19s 187ms/step - loss: 2.1158 - accuracy: 0.2275 - val_loss: 1.9581 - val_accuracy: 0.2465\n",
      "Epoch 42/50\n",
      "100/100 [==============================] - 19s 186ms/step - loss: 2.0879 - accuracy: 0.2216 - val_loss: 1.9527 - val_accuracy: 0.2825\n",
      "Epoch 43/50\n",
      "100/100 [==============================] - 19s 186ms/step - loss: 2.0851 - accuracy: 0.2338 - val_loss: 1.9207 - val_accuracy: 0.2807\n",
      "Epoch 44/50\n",
      "100/100 [==============================] - 19s 187ms/step - loss: 2.0572 - accuracy: 0.2269 - val_loss: 1.9382 - val_accuracy: 0.2816\n",
      "Epoch 45/50\n",
      "100/100 [==============================] - 19s 185ms/step - loss: 2.0667 - accuracy: 0.2313 - val_loss: 1.9145 - val_accuracy: 0.2816\n",
      "Epoch 46/50\n",
      "100/100 [==============================] - 19s 187ms/step - loss: 2.0566 - accuracy: 0.2375 - val_loss: 1.9192 - val_accuracy: 0.2860\n",
      "Epoch 47/50\n",
      "100/100 [==============================] - 19s 187ms/step - loss: 2.0450 - accuracy: 0.2253 - val_loss: 1.9287 - val_accuracy: 0.2860\n",
      "Epoch 48/50\n",
      "100/100 [==============================] - 18s 185ms/step - loss: 2.0350 - accuracy: 0.2395 - val_loss: 1.9197 - val_accuracy: 0.3061\n",
      "Epoch 49/50\n",
      "100/100 [==============================] - 19s 186ms/step - loss: 2.0226 - accuracy: 0.2387 - val_loss: 1.8914 - val_accuracy: 0.3184\n",
      "Epoch 50/50\n",
      "100/100 [==============================] - 19s 187ms/step - loss: 2.0218 - accuracy: 0.2391 - val_loss: 1.8604 - val_accuracy: 0.3035\n"
     ]
    }
   ],
   "source": [
    "hist= model.fit(\n",
    "        my_gen(train_generator),\n",
    "        steps_per_epoch=steps_per_epoch,\n",
    "        epochs=epoch,\n",
    "        validation_data=validation_generator,callbacks=)"
   ]
  },
  {
   "cell_type": "code",
   "execution_count": 19,
   "metadata": {},
   "outputs": [
    {
     "ename": "NameError",
     "evalue": "name 'X_test_f' is not defined",
     "output_type": "error",
     "traceback": [
      "\u001b[0;31m---------------------------------------------------------------------------\u001b[0m",
      "\u001b[0;31mNameError\u001b[0m                                 Traceback (most recent call last)",
      "\u001b[0;32m<ipython-input-19-719ed1876b66>\u001b[0m in \u001b[0;36m<module>\u001b[0;34m\u001b[0m\n\u001b[0;32m----> 1\u001b[0;31m \u001b[0mtest_loss\u001b[0m\u001b[0;34m,\u001b[0m \u001b[0mtest_acc\u001b[0m \u001b[0;34m=\u001b[0m \u001b[0mmodel\u001b[0m\u001b[0;34m.\u001b[0m\u001b[0mevaluate\u001b[0m\u001b[0;34m(\u001b[0m\u001b[0mX_test_f\u001b[0m\u001b[0;34m,\u001b[0m \u001b[0my_test_f\u001b[0m\u001b[0;34m,\u001b[0m \u001b[0mverbose\u001b[0m\u001b[0;34m=\u001b[0m\u001b[0;36m0\u001b[0m\u001b[0;34m)\u001b[0m\u001b[0;34m\u001b[0m\u001b[0;34m\u001b[0m\u001b[0m\n\u001b[0m\u001b[1;32m      2\u001b[0m \u001b[0;34m\u001b[0m\u001b[0m\n\u001b[1;32m      3\u001b[0m \u001b[0mprint\u001b[0m\u001b[0;34m(\u001b[0m\u001b[0;34m'\\nTest accuracy {:5.2f}%'\u001b[0m\u001b[0;34m.\u001b[0m\u001b[0mformat\u001b[0m\u001b[0;34m(\u001b[0m\u001b[0;36m100\u001b[0m\u001b[0;34m*\u001b[0m\u001b[0mtest_acc\u001b[0m\u001b[0;34m)\u001b[0m\u001b[0;34m)\u001b[0m\u001b[0;34m\u001b[0m\u001b[0;34m\u001b[0m\u001b[0m\n",
      "\u001b[0;31mNameError\u001b[0m: name 'X_test_f' is not defined"
     ]
    }
   ],
   "source": [
    "test_loss, test_acc = model.evaluate(X_test_f, y_test_f, verbose=0)\n",
    "\n",
    "print('\\nTest accuracy {:5.2f}%'.format(100*test_acc))"
   ]
  },
  {
   "cell_type": "code",
   "execution_count": 20,
   "metadata": {},
   "outputs": [
    {
     "data": {
      "image/png": "[encoded data removed]",
      "text/plain": [
       "<Figure size 432x288 with 1 Axes>"
      ]
     },
     "metadata": {},
     "output_type": "display_data"
    }
   ],
   "source": [
    "%load_ext autoreload\n",
    "#Wedutoreload 2\n",
    "\n",
    "import pandas as pd\n",
    "import numpy as np\n",
    "import scipy.stats as stats\n",
    "import matplotlib.pyplot as plt\n",
    "import seaborn as sns\n",
    "%matplotlib inline\n",
    "plt.style.use('ggplot')\n",
    "training_loss = hist.history['loss']\n",
    "test_loss = hist.history['val_loss']\n",
    "\n",
    "epoch_count = range(1,len(training_loss)+1)\n",
    "\n",
    "plt.plot(epoch_count,training_loss,'r--')\n",
    "plt.plot(epoch_count,test_loss,'b-')\n",
    "plt.legend(['Training Loss', 'Validation Loss'])\n",
    "plt.xlabel('Epoch')\n",
    "plt.ylabel('Loss')\n",
    "plt.show();"
   ]
  },
  {
   "cell_type": "code",
   "execution_count": 21,
   "metadata": {},
   "outputs": [
    {
     "data": {
      "text/plain": [
       "<matplotlib.legend.Legend at 0x7f62841e1e90>"
      ]
     },
     "execution_count": 21,
     "metadata": {},
     "output_type": "execute_result"
    },
    {
     "data": {
      "image/png": "[encoded data removed]",
      "text/plain": [
       "<Figure size 432x288 with 1 Axes>"
      ]
     },
     "metadata": {},
     "output_type": "display_data"
    }
   ],
   "source": [
    "acc = hist.history['accuracy']\n",
    "val_acc = hist.history['val_accuracy']\n",
    "\n",
    "epoch_count = range(1,len(training_loss)+1)\n",
    "\n",
    "plt.plot(acc, 'r--', label='Training Accuracy')\n",
    "plt.plot(val_acc, 'b-', label='Validation Accuracy')\n",
    "plt.legend(loc='lower right')\n",
    "plt.ylabel('Accuracy')\n",
    "plt.ylim([min(plt.ylim()),1])\n",
    "plt.title('Training and Validation Accuracy');\n",
    "\n",
    "plt.legend(bbox_to_anchor=(1.05,1),loc=2,borderaxespad=0)"
   ]
  },
  {
   "cell_type": "code",
   "execution_count": null,
   "metadata": {},
   "outputs": [],
   "source": []
  }
 ],
 "metadata": {
  "kernelspec": {
   "display_name": "Python 3",
   "language": "python",
   "name": "python3"
  },
  "language_info": {
   "codemirror_mode": {
    "name": "ipython",
    "version": 3
   },
   "file_extension": ".py",
   "mimetype": "text/x-python",
   "name": "python",
   "nbconvert_exporter": "python",
   "pygments_lexer": "ipython3",
   "version": "3.7.6"
  }
 },
 "nbformat": 4,
 "nbformat_minor": 4
}
